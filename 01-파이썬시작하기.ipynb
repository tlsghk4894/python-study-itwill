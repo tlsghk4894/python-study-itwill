{
 "cells": [
  {
   "cell_type": "markdown",
   "id": "dac9906b",
   "metadata": {},
   "source": []
  },
  {
   "cell_type": "code",
   "execution_count": 5,
   "id": "882b676b",
   "metadata": {},
   "outputs": [
    {
     "name": "stdout",
     "output_type": "stream",
     "text": [
      "Hello World\n"
     ]
    }
   ],
   "source": [
    "print(\"Hello World\")"
   ]
  },
  {
   "cell_type": "code",
   "execution_count": 6,
   "id": "e1aa051d",
   "metadata": {},
   "outputs": [
    {
     "name": "stdout",
     "output_type": "stream",
     "text": [
      "300\n"
     ]
    }
   ],
   "source": [
    "a= 100\n",
    "b= 200\n",
    "\n",
    "print (a+b)"
   ]
  },
  {
   "cell_type": "code",
   "execution_count": 7,
   "id": "e8bd3394",
   "metadata": {},
   "outputs": [
    {
     "name": "stdout",
     "output_type": "stream",
     "text": [
      "123\n",
      "-456\n"
     ]
    }
   ],
   "source": [
    "a= 123\n",
    "b=-456\n",
    "print(a)\n",
    "print(b)"
   ]
  },
  {
   "cell_type": "code",
   "execution_count": 8,
   "id": "387775d6",
   "metadata": {},
   "outputs": [],
   "source": [
    "a=10000"
   ]
  },
  {
   "cell_type": "code",
   "execution_count": 9,
   "id": "b166ba7e",
   "metadata": {},
   "outputs": [
    {
     "name": "stdout",
     "output_type": "stream",
     "text": [
      "10000\n"
     ]
    }
   ],
   "source": [
    "print(a)"
   ]
  },
  {
   "cell_type": "code",
   "execution_count": 10,
   "id": "3ea1987e",
   "metadata": {},
   "outputs": [
    {
     "name": "stdout",
     "output_type": "stream",
     "text": [
      "1.2\n",
      "-3.45\n"
     ]
    }
   ],
   "source": [
    "c=1.2\n",
    "d=-3.45\n",
    "print(c)\n",
    "print(d)"
   ]
  },
  {
   "cell_type": "code",
   "execution_count": 11,
   "id": "f2e2f42a",
   "metadata": {},
   "outputs": [
    {
     "name": "stdout",
     "output_type": "stream",
     "text": [
      "True\n"
     ]
    }
   ],
   "source": [
    "a=True\n",
    "print(a)"
   ]
  },
  {
   "cell_type": "code",
   "execution_count": 12,
   "id": "d20d87af",
   "metadata": {},
   "outputs": [
    {
     "name": "stdout",
     "output_type": "stream",
     "text": [
      "False\n"
     ]
    }
   ],
   "source": [
    "b=False\n",
    "print(b)"
   ]
  },
  {
   "cell_type": "code",
   "execution_count": 13,
   "id": "468e690a",
   "metadata": {},
   "outputs": [
    {
     "name": "stdout",
     "output_type": "stream",
     "text": [
      "안녕하세요. 파이썬\n"
     ]
    }
   ],
   "source": [
    "msg='안녕하세요. 파이썬'\n",
    "print(msg)"
   ]
  },
  {
   "cell_type": "code",
   "execution_count": 14,
   "id": "3b12231f",
   "metadata": {},
   "outputs": [
    {
     "name": "stdout",
     "output_type": "stream",
     "text": [
      "None\n"
     ]
    }
   ],
   "source": [
    "hello = None\n",
    "print(hello)"
   ]
  },
  {
   "cell_type": "code",
   "execution_count": 15,
   "id": "1dd86071",
   "metadata": {},
   "outputs": [
    {
     "name": "stdout",
     "output_type": "stream",
     "text": [
      "1\n",
      "2\n"
     ]
    }
   ],
   "source": [
    "a=1\n",
    "b=2\n",
    "print(a)\n",
    "print(b)"
   ]
  },
  {
   "cell_type": "code",
   "execution_count": 16,
   "id": "642ff9c6",
   "metadata": {},
   "outputs": [
    {
     "name": "stdout",
     "output_type": "stream",
     "text": [
      "2\n"
     ]
    }
   ],
   "source": [
    "a,b = b,a\n",
    "print(a)"
   ]
  },
  {
   "cell_type": "code",
   "execution_count": 17,
   "id": "5bead379",
   "metadata": {},
   "outputs": [
    {
     "name": "stdout",
     "output_type": "stream",
     "text": [
      "1\n"
     ]
    }
   ],
   "source": [
    "print(b)"
   ]
  },
  {
   "cell_type": "code",
   "execution_count": 18,
   "id": "dedf3cec",
   "metadata": {},
   "outputs": [
    {
     "name": "stdout",
     "output_type": "stream",
     "text": [
      "7\n"
     ]
    }
   ],
   "source": [
    "a=3\n",
    "b=4\n",
    "c=a+b\n",
    "print(c)"
   ]
  },
  {
   "cell_type": "code",
   "execution_count": 19,
   "id": "83bd6710",
   "metadata": {},
   "outputs": [
    {
     "name": "stdout",
     "output_type": "stream",
     "text": [
      "-1\n",
      "12\n",
      "0.75\n"
     ]
    }
   ],
   "source": [
    "print(a-b)\n",
    "print(a*b)\n",
    "print(a/b)"
   ]
  },
  {
   "cell_type": "code",
   "execution_count": 20,
   "id": "71ff570e",
   "metadata": {},
   "outputs": [
    {
     "name": "stdout",
     "output_type": "stream",
     "text": [
      "3.3333333333333335\n"
     ]
    }
   ],
   "source": [
    "print(10/3)"
   ]
  },
  {
   "cell_type": "code",
   "execution_count": 21,
   "id": "7651a926",
   "metadata": {},
   "outputs": [
    {
     "name": "stdout",
     "output_type": "stream",
     "text": [
      "3\n"
     ]
    }
   ],
   "source": [
    "print(10//3)"
   ]
  },
  {
   "cell_type": "code",
   "execution_count": 22,
   "id": "a78f89ee",
   "metadata": {},
   "outputs": [
    {
     "name": "stdout",
     "output_type": "stream",
     "text": [
      "1\n"
     ]
    }
   ],
   "source": [
    "print(10%3)"
   ]
  },
  {
   "cell_type": "code",
   "execution_count": 23,
   "id": "c86ef3b0",
   "metadata": {},
   "outputs": [
    {
     "name": "stdout",
     "output_type": "stream",
     "text": [
      "9\n"
     ]
    }
   ],
   "source": [
    "print(3**2)"
   ]
  },
  {
   "cell_type": "code",
   "execution_count": 24,
   "id": "0e2d3611",
   "metadata": {},
   "outputs": [
    {
     "name": "stdout",
     "output_type": "stream",
     "text": [
      "1\n"
     ]
    }
   ],
   "source": [
    "a=1\n",
    "a+=100\n",
    "a*=10\n",
    "a//=3\n",
    "a%=5\n",
    "print(a)"
   ]
  },
  {
   "cell_type": "code",
   "execution_count": 25,
   "id": "99487378",
   "metadata": {},
   "outputs": [
    {
     "name": "stdout",
     "output_type": "stream",
     "text": [
      "False\n",
      "True\n",
      "True\n",
      "True\n",
      "False\n",
      "False\n"
     ]
    }
   ],
   "source": [
    "print(100==50)\n",
    "print(100!=50)\n",
    "print(100>=50)\n",
    "print(100>50)\n",
    "print(100<50)\n",
    "print(100<=50)\n"
   ]
  },
  {
   "cell_type": "code",
   "execution_count": 26,
   "id": "fa43ff65",
   "metadata": {},
   "outputs": [
    {
     "name": "stdout",
     "output_type": "stream",
     "text": [
      "True\n"
     ]
    }
   ],
   "source": [
    "result = 100>50\n",
    "print(result)"
   ]
  },
  {
   "cell_type": "code",
   "execution_count": 27,
   "id": "ba1702b6",
   "metadata": {},
   "outputs": [
    {
     "name": "stdout",
     "output_type": "stream",
     "text": [
      "True\n",
      "False\n",
      "False\n",
      "False\n"
     ]
    }
   ],
   "source": [
    "print(True and True)\n",
    "print(True and False)\n",
    "print( False and True)\n",
    "print(False and False)"
   ]
  },
  {
   "cell_type": "code",
   "execution_count": 28,
   "id": "5e674870",
   "metadata": {},
   "outputs": [
    {
     "name": "stdout",
     "output_type": "stream",
     "text": [
      "True\n",
      "True\n"
     ]
    }
   ],
   "source": [
    "print(True or True)\n",
    "print(True or False)"
   ]
  },
  {
   "cell_type": "code",
   "execution_count": 29,
   "id": "cae573d9",
   "metadata": {},
   "outputs": [
    {
     "name": "stdout",
     "output_type": "stream",
     "text": [
      "True\n",
      "False\n"
     ]
    }
   ],
   "source": [
    "print(False or True)\n",
    "print(False or False)"
   ]
  },
  {
   "cell_type": "code",
   "execution_count": 30,
   "id": "0894c3e5",
   "metadata": {},
   "outputs": [
    {
     "name": "stdout",
     "output_type": "stream",
     "text": [
      "False\n",
      "True\n",
      "False\n"
     ]
    }
   ],
   "source": [
    "print(not True)\n",
    "print(not False)\n",
    "mybool = True\n",
    "reverse = not mybool\n",
    "print(reverse)"
   ]
  },
  {
   "cell_type": "code",
   "execution_count": 31,
   "id": "bc7d6ecd",
   "metadata": {},
   "outputs": [
    {
     "name": "stdout",
     "output_type": "stream",
     "text": [
      "True\n"
     ]
    }
   ],
   "source": [
    "a = 100>50\n",
    "b=20>10\n",
    "print(a and b)"
   ]
  },
  {
   "cell_type": "code",
   "execution_count": 32,
   "id": "1916e0a8",
   "metadata": {},
   "outputs": [
    {
     "name": "stdout",
     "output_type": "stream",
     "text": [
      "False\n"
     ]
    }
   ],
   "source": [
    "c=100>=100 and 50 == 10\n",
    "print(c)"
   ]
  },
  {
   "cell_type": "code",
   "execution_count": 33,
   "id": "083c8d69",
   "metadata": {},
   "outputs": [
    {
     "name": "stdout",
     "output_type": "stream",
     "text": [
      "True\n"
     ]
    }
   ],
   "source": [
    "print (100!=200 and 100 == 100)"
   ]
  },
  {
   "cell_type": "code",
   "execution_count": 34,
   "id": "63784f64",
   "metadata": {},
   "outputs": [
    {
     "name": "stdout",
     "output_type": "stream",
     "text": [
      "\n"
     ]
    }
   ],
   "source": [
    "msg1=input(\"메시지를 입력하세요:\")\n",
    "print(msg1)"
   ]
  },
  {
   "cell_type": "code",
   "execution_count": 35,
   "id": "40720fe5",
   "metadata": {},
   "outputs": [
    {
     "name": "stdout",
     "output_type": "stream",
     "text": [
      "<class 'str'>\n"
     ]
    }
   ],
   "source": [
    "t= type(msg1)\n",
    "print(t)"
   ]
  },
  {
   "cell_type": "code",
   "execution_count": 36,
   "id": "09a9ea0a",
   "metadata": {},
   "outputs": [
    {
     "ename": "ValueError",
     "evalue": "invalid literal for int() with base 10: ''",
     "output_type": "error",
     "traceback": [
      "\u001b[31m---------------------------------------------------------------------------\u001b[39m",
      "\u001b[31mValueError\u001b[39m                                Traceback (most recent call last)",
      "\u001b[36mCell\u001b[39m\u001b[36m \u001b[39m\u001b[32mIn[36]\u001b[39m\u001b[32m, line 2\u001b[39m\n\u001b[32m      1\u001b[39m msg2=\u001b[38;5;28minput\u001b[39m(\u001b[33m\"\u001b[39m\u001b[33m정수를 입력하세요\u001b[39m\u001b[33m\"\u001b[39m)\n\u001b[32m----> \u001b[39m\u001b[32m2\u001b[39m num = \u001b[38;5;28;43mint\u001b[39;49m\u001b[43m(\u001b[49m\u001b[43mmsg2\u001b[49m\u001b[43m)\u001b[49m\n\u001b[32m      3\u001b[39m \u001b[38;5;28mprint\u001b[39m(num)\n",
      "\u001b[31mValueError\u001b[39m: invalid literal for int() with base 10: ''"
     ]
    }
   ],
   "source": [
    "msg2=input(\"정수를 입력하세요\")\n",
    "num = int(msg2)\n",
    "print(num)"
   ]
  },
  {
   "cell_type": "code",
   "execution_count": null,
   "id": "96d9dca7",
   "metadata": {},
   "outputs": [],
   "source": [
    "num_type=type(num)\n",
    "print(num_type)\n"
   ]
  },
  {
   "cell_type": "code",
   "execution_count": null,
   "id": "482141d9",
   "metadata": {},
   "outputs": [],
   "source": [
    "msg3 = input(\"실수를 입력하세요\")\n",
    "fnum = float(msg3)\n",
    "print(fnum)\n"
   ]
  },
  {
   "cell_type": "code",
   "execution_count": null,
   "id": "1b0a4f84",
   "metadata": {},
   "outputs": [],
   "source": [
    "fnum_type=type(fnum)\n",
    "print(fnum_type)"
   ]
  },
  {
   "cell_type": "code",
   "execution_count": null,
   "id": "14ff82a2",
   "metadata": {},
   "outputs": [],
   "source": [
    "num1=100\n",
    "num2=float(num1)\n",
    "print(num2)\n"
   ]
  },
  {
   "cell_type": "code",
   "execution_count": null,
   "id": "483029de",
   "metadata": {},
   "outputs": [],
   "source": [
    "t1=type(num2)\n",
    "print(t1)"
   ]
  },
  {
   "cell_type": "code",
   "execution_count": null,
   "id": "80a058fa",
   "metadata": {},
   "outputs": [],
   "source": [
    "num3=123.78\n",
    "num4 = int(num3)\n",
    "print(num4)"
   ]
  },
  {
   "cell_type": "code",
   "execution_count": null,
   "id": "118e38e5",
   "metadata": {},
   "outputs": [],
   "source": [
    "t2=type(num4)\n",
    "print(t2)"
   ]
  },
  {
   "cell_type": "code",
   "execution_count": null,
   "id": "e0800aa6",
   "metadata": {},
   "outputs": [],
   "source": [
    "num1=100\n",
    "s1=str(num1)\n",
    "print(type(num1),type(s1))"
   ]
  },
  {
   "cell_type": "code",
   "execution_count": null,
   "id": "67aa088a",
   "metadata": {},
   "outputs": [],
   "source": [
    "num2=3.14\n",
    "s2=str(num2)\n",
    "print(type(num2),type(s2))"
   ]
  },
  {
   "cell_type": "code",
   "execution_count": null,
   "id": "4c69f336",
   "metadata": {},
   "outputs": [],
   "source": [
    "a=pow(2,8)\n",
    "print(a)"
   ]
  },
  {
   "cell_type": "code",
   "execution_count": null,
   "id": "5371bd13",
   "metadata": {},
   "outputs": [],
   "source": [
    "a=abs(100)\n",
    "print(a)\n",
    "\n",
    "b=abs(-100)\n",
    "print(b)\n",
    "\n",
    "c=abs(-12.345)\n",
    "print(c)"
   ]
  },
  {
   "cell_type": "code",
   "execution_count": null,
   "id": "9e0b2fc7",
   "metadata": {},
   "outputs": [],
   "source": [
    "n=round(123.78)\n",
    "print(n)"
   ]
  },
  {
   "cell_type": "code",
   "execution_count": null,
   "id": "475aa89c",
   "metadata": {},
   "outputs": [],
   "source": [
    "n2=round(123.76,1)\n",
    "print(n2)"
   ]
  },
  {
   "cell_type": "code",
   "execution_count": null,
   "id": "bad0a9b2",
   "metadata": {},
   "outputs": [],
   "source": [
    "def say_hello():\n",
    "    print(\"Hello Python\")\n",
    "    print(\"안녕 파이썬\")\n",
    "    "
   ]
  },
  {
   "cell_type": "code",
   "execution_count": null,
   "id": "6de50c7a",
   "metadata": {},
   "outputs": [],
   "source": [
    "say_hello()"
   ]
  },
  {
   "cell_type": "code",
   "execution_count": null,
   "id": "eb09b78c",
   "metadata": {},
   "outputs": [],
   "source": [
    "def f(x):\n",
    "    y=x+1\n",
    "    print(y)"
   ]
  },
  {
   "cell_type": "code",
   "execution_count": null,
   "id": "f8c1c979",
   "metadata": {},
   "outputs": [],
   "source": [
    "f(2)"
   ]
  },
  {
   "cell_type": "code",
   "execution_count": null,
   "id": "6f82930f",
   "metadata": {},
   "outputs": [],
   "source": [
    "f(3)"
   ]
  },
  {
   "cell_type": "code",
   "execution_count": null,
   "id": "a6b03739",
   "metadata": {},
   "outputs": [],
   "source": [
    "def foo(count):\n",
    "    x=count*10\n",
    "    print(x)"
   ]
  },
  {
   "cell_type": "code",
   "execution_count": null,
   "id": "863e463a",
   "metadata": {},
   "outputs": [],
   "source": [
    "foo(2)"
   ]
  },
  {
   "cell_type": "code",
   "execution_count": null,
   "id": "d7ed9067",
   "metadata": {},
   "outputs": [],
   "source": [
    "def hello(x,y):\n",
    "    z=x+y\n",
    "    print(z)"
   ]
  },
  {
   "cell_type": "code",
   "execution_count": null,
   "id": "73985cd3",
   "metadata": {},
   "outputs": [],
   "source": [
    "hello(2,1)"
   ]
  },
  {
   "cell_type": "code",
   "execution_count": null,
   "id": "36551835",
   "metadata": {},
   "outputs": [],
   "source": [
    "hello(5,3)"
   ]
  },
  {
   "cell_type": "code",
   "execution_count": null,
   "id": "845b5404",
   "metadata": {},
   "outputs": [],
   "source": [
    "def sum1(x,y,z=0):\n",
    "    answer=x+y+z\n",
    "    print(answer)"
   ]
  },
  {
   "cell_type": "code",
   "execution_count": null,
   "id": "4dbae996",
   "metadata": {},
   "outputs": [],
   "source": [
    "sum1(1,2,3)"
   ]
  },
  {
   "cell_type": "code",
   "execution_count": null,
   "id": "87ab1bbe",
   "metadata": {},
   "outputs": [],
   "source": [
    "sum(1,2)"
   ]
  },
  {
   "cell_type": "code",
   "execution_count": null,
   "id": "b671229a",
   "metadata": {},
   "outputs": [],
   "source": [
    "sum1(1,2)"
   ]
  },
  {
   "cell_type": "code",
   "execution_count": null,
   "id": "dab74ff6",
   "metadata": {},
   "outputs": [],
   "source": [
    "def sum2(a,b,c=0,d=0):\n",
    "    answer=a+b+c+d\n",
    "    print(answer)"
   ]
  },
  {
   "cell_type": "code",
   "execution_count": null,
   "id": "f4bd57b5",
   "metadata": {},
   "outputs": [],
   "source": [
    "sum2(d=3,c=4,b=2,a=1)"
   ]
  },
  {
   "cell_type": "code",
   "execution_count": null,
   "id": "8d05779f",
   "metadata": {},
   "outputs": [],
   "source": [
    "sum2(1,2)"
   ]
  },
  {
   "cell_type": "code",
   "execution_count": null,
   "id": "e4c32cb0",
   "metadata": {},
   "outputs": [],
   "source": [
    "def plus(x,y):\n",
    "    z=x+y\n",
    "    return z"
   ]
  },
  {
   "cell_type": "code",
   "execution_count": null,
   "id": "ea7a1a42",
   "metadata": {},
   "outputs": [],
   "source": [
    "a = plus(10,20)\n",
    "print(a)"
   ]
  },
  {
   "cell_type": "code",
   "execution_count": null,
   "id": "b50d0ae6",
   "metadata": {},
   "outputs": [],
   "source": [
    "print(plus(100,200))"
   ]
  },
  {
   "cell_type": "code",
   "execution_count": null,
   "id": "15b614b8",
   "metadata": {},
   "outputs": [],
   "source": [
    "b=plus(5,7)+100\n",
    "print(b)"
   ]
  },
  {
   "cell_type": "code",
   "execution_count": null,
   "id": "142753c5",
   "metadata": {},
   "outputs": [],
   "source": [
    "def foo(x,y):\n",
    "    return 0\n",
    "    z= x+y\n",
    "    return z"
   ]
  },
  {
   "cell_type": "code",
   "execution_count": null,
   "id": "1b393248",
   "metadata": {},
   "outputs": [],
   "source": [
    "print(foo(100,200))"
   ]
  },
  {
   "cell_type": "code",
   "execution_count": null,
   "id": "1411afc7",
   "metadata": {},
   "outputs": [],
   "source": [
    "a=100\n",
    "b=200\n",
    "\n",
    "def foo():\n",
    "    k=a+b\n",
    "    print(k)"
   ]
  },
  {
   "cell_type": "code",
   "execution_count": null,
   "id": "c45649af",
   "metadata": {},
   "outputs": [],
   "source": [
    "foo()"
   ]
  },
  {
   "cell_type": "code",
   "execution_count": null,
   "id": "3c38c3cf",
   "metadata": {},
   "outputs": [],
   "source": [
    "print(k)"
   ]
  },
  {
   "cell_type": "code",
   "execution_count": null,
   "id": "0aa8ed19",
   "metadata": {},
   "outputs": [],
   "source": [
    "print(\"시험시작\")\n",
    "\n",
    "score=int(input(\"점수를 입력하세요: \"))\n",
    "\n",
    "if score>=60:\n",
    "    print(\"합격입니다.\")\n",
    "print(\"시험 끝\")\n"
   ]
  },
  {
   "cell_type": "code",
   "execution_count": null,
   "id": "c9374117",
   "metadata": {},
   "outputs": [],
   "source": [
    "money = 10000\n",
    "if money:\n",
    "    print(\"택시를 타고\")\n",
    "print(\"집에가자\")"
   ]
  },
  {
   "cell_type": "code",
   "execution_count": null,
   "id": "ac53844e",
   "metadata": {},
   "outputs": [],
   "source": [
    "name=\"Python\"\n",
    "\n",
    "if name:\n",
    "    print(name)\n",
    "print(\"프로그래밍\")"
   ]
  },
  {
   "cell_type": "code",
   "execution_count": null,
   "id": "0db9e672",
   "metadata": {},
   "outputs": [],
   "source": [
    "myage = int(input(\"나이를 입력하세요: \"))\n",
    "if myage==19:\n",
    "    print(\"19살 입니다.\")\n",
    "if myage !=20:\n",
    "    print(\"20살이 아닙니다.\")\n",
    "if myage>19:\n",
    "    print(\"성인입니다.\")\n",
    "if myage<=19:\n",
    "    print(\"청소년입니다.\")\n",
    "    "
   ]
  },
  {
   "cell_type": "code",
   "execution_count": null,
   "id": "c086eeae",
   "metadata": {},
   "outputs": [],
   "source": [
    "point = int(input(\"점수를 입력하세요\"))\n",
    "if point>70 and point <=80:\n",
    "    print(\"C학점 입니다.\")\n",
    "\n",
    "if point <=70 or point>80:\n",
    "    print(\"C학점이 아닙니다.\")"
   ]
  },
  {
   "cell_type": "code",
   "execution_count": null,
   "id": "55c32570",
   "metadata": {},
   "outputs": [],
   "source": [
    "isKorean = True\n",
    "\n",
    "if isKorean == True:\n",
    "    print(\"한국사람입니다...(1)\")\n",
    "\n",
    "if isKorean == False:\n",
    "    print(\"한국사람이 아닙니다...(2)\")\n",
    "\n",
    "if isKorean !=True:\n",
    "    print(\"한국사람이 아닙니다...(3)\")\n",
    "\n",
    "if isKorean != False:\n",
    "    print(\"한국사람입니다...(4)\")\n",
    "\n",
    "if isKorean:\n",
    "    print(\"한국사람입니다...(5)\")\n",
    "\n",
    "if not isKorean:\n",
    "    print(\"한국사람이 아닙니다...(6)\")"
   ]
  },
  {
   "cell_type": "code",
   "execution_count": null,
   "id": "c7111a1d",
   "metadata": {},
   "outputs": [],
   "source": [
    "print(\"시험 시작\")\n",
    "\n",
    "score=int(input(\"점수를 입력하세요: \"))\n",
    "if score>=60:\n",
    "    print(\"합격입니다.\")\n",
    "else:\n",
    "    print(\"불합격입니다.\")\n",
    "print(\"시험 끝\")\n"
   ]
  },
  {
   "cell_type": "code",
   "execution_count": null,
   "id": "dcf0c727",
   "metadata": {},
   "outputs": [],
   "source": [
    "answer = input(\"한국인입니까? (Y/N)\")\n",
    "\n",
    "if answer==\"Y\": \n",
    "    isKorean=True\n",
    "else:\n",
    "    isKorean=False\n",
    "\n",
    "if isKorean:\n",
    "    print(\"한국사람 입니다...(1)\")\n",
    "else:\n",
    "    print(\"한국사람이 아닙니다...(2)\")\n",
    "\n",
    "if not isKorean:\n",
    "    print(\"한국사람이 아닙니다...(3)\")\n",
    "else:\n",
    "    print(\"한국사람 입니다...(4)\")"
   ]
  },
  {
   "cell_type": "code",
   "execution_count": null,
   "id": "c203caa9",
   "metadata": {},
   "outputs": [],
   "source": [
    "print(\"시험시작\")\n",
    "\n",
    "point=int(input(\"점수를 입력하세요: \"))\n",
    "\n",
    "if point>=90:\n",
    "    print(\"A학점\")\n",
    "elif point>=80:\n",
    "    print(\"B학점\")\n",
    "elif point>=70:\n",
    "    print(\"C학점\")\n",
    "elif point>=60:\n",
    "    print(\"D학점\")\n",
    "else:\n",
    "    print(\"F학점\")\n",
    "print(\"시험끝\")\n"
   ]
  },
  {
   "cell_type": "code",
   "execution_count": null,
   "id": "b6a73d75",
   "metadata": {},
   "outputs": [],
   "source": [
    "x=1\n",
    "while x<=10:\n",
    "    print(\"x = \",x)\n",
    "    x+=1\n",
    "print(\"x의 최종값 =\",x)"
   ]
  },
  {
   "cell_type": "code",
   "execution_count": null,
   "id": "675a6989",
   "metadata": {},
   "outputs": [],
   "source": [
    "x = int(input(\"숫자를 입력하세요.\"))\n",
    "y=1\n",
    "while y<10:\n",
    "    z=x*y\n",
    "    print(x,\"x\",y,\"=\",z)\n",
    "    y+=1"
   ]
  },
  {
   "cell_type": "code",
   "execution_count": null,
   "id": "2e751e66",
   "metadata": {},
   "outputs": [],
   "source": [
    "x=1\n",
    "sum=0\n",
    "while x<=10:\n",
    "    sum+=x\n",
    "    print(\"x = \", x, \"-> sum =\", sum)\n",
    "    x+=1"
   ]
  },
  {
   "cell_type": "code",
   "execution_count": null,
   "id": "7bfa26b0",
   "metadata": {},
   "outputs": [],
   "source": [
    "a = 0 \n",
    "while a<50:\n",
    "    print(a)\n",
    "    a+=10\n",
    "    "
   ]
  },
  {
   "cell_type": "code",
   "execution_count": null,
   "id": "932d9174",
   "metadata": {},
   "outputs": [],
   "source": [
    "b=10\n",
    "while b>0:\n",
    "    print(b)\n",
    "    b-=2"
   ]
  },
  {
   "cell_type": "code",
   "execution_count": null,
   "id": "f8c47a03",
   "metadata": {},
   "outputs": [],
   "source": [
    "for x in range(1,11):\n",
    "    print(\"x=\",x)\n",
    "print(\"x의 최종값 =\",x)"
   ]
  },
  {
   "cell_type": "code",
   "execution_count": null,
   "id": "77c2c79f",
   "metadata": {},
   "outputs": [],
   "source": [
    "x = int(input(\"숫자를 입력하세요.\"))\n",
    "for y in range(1,10):\n",
    "    z=x*y\n",
    "    print(x,\"x\",y,\"=\",z)"
   ]
  },
  {
   "cell_type": "code",
   "execution_count": null,
   "id": "d244f1d7",
   "metadata": {},
   "outputs": [],
   "source": [
    "sum = 0\n",
    "for i in range(1,11):\n",
    "    sum+=i\n",
    "    print(\"i =\",i,\"-> sum =\",sum)"
   ]
  },
  {
   "cell_type": "code",
   "execution_count": null,
   "id": "86b7bf67",
   "metadata": {},
   "outputs": [],
   "source": [
    "for i in range(0,50,10):\n",
    "    print(i)"
   ]
  },
  {
   "cell_type": "code",
   "execution_count": null,
   "id": "bf006a57",
   "metadata": {},
   "outputs": [],
   "source": [
    "for i in range(10,0,-2):\n",
    "    print(i)"
   ]
  },
  {
   "cell_type": "code",
   "execution_count": null,
   "id": "2065f6cc",
   "metadata": {},
   "outputs": [
    {
     "ename": "ValueError",
     "evalue": "invalid literal for int() with base 10: ''",
     "output_type": "error",
     "traceback": [
      "\u001b[31m---------------------------------------------------------------------------\u001b[39m",
      "\u001b[31mValueError\u001b[39m                                Traceback (most recent call last)",
      "\u001b[36mCell\u001b[39m\u001b[36m \u001b[39m\u001b[32mIn[1]\u001b[39m\u001b[32m, line 1\u001b[39m\n\u001b[32m----> \u001b[39m\u001b[32m1\u001b[39m number = \u001b[38;5;28;43mint\u001b[39;49m\u001b[43m(\u001b[49m\u001b[38;5;28;43minput\u001b[39;49m\u001b[43m(\u001b[49m\u001b[33;43m\"\u001b[39;49m\u001b[33;43m숫자를 입력하세요: \u001b[39;49m\u001b[33;43m\"\u001b[39;49m\u001b[43m)\u001b[49m\u001b[43m)\u001b[49m\n\u001b[32m      3\u001b[39m x=\u001b[32m0\u001b[39m\n\u001b[32m      4\u001b[39m y=\u001b[32m0\u001b[39m\n",
      "\u001b[31mValueError\u001b[39m: invalid literal for int() with base 10: ''"
     ]
    }
   ],
   "source": [
    "number = int(input(\"숫자를 입력하세요: \"))\n",
    "\n",
    "x=0\n",
    "y=0\n",
    "\n",
    "for i in range(1,number+1):\n",
    "    if i%2==0:\n",
    "        x+=i\n",
    "    else:\n",
    "        y+=i\n",
    "\n",
    "print(\"짝수의 합:\", x)\n",
    "print(\"홀수의 합:\", y)"
   ]
  },
  {
   "cell_type": "code",
   "execution_count": null,
   "id": "7216209e",
   "metadata": {},
   "outputs": [
    {
     "name": "stdout",
     "output_type": "stream",
     "text": [
      "*****\n",
      "****\n",
      "***\n",
      "**\n",
      "*\n"
     ]
    }
   ],
   "source": [
    "for i in range(0,5):\n",
    "    for j in range(i,5):\n",
    "        print('*',end='')\n",
    "    print()"
   ]
  },
  {
   "cell_type": "code",
   "execution_count": null,
   "id": "e9d6236a",
   "metadata": {},
   "outputs": [
    {
     "name": "stdout",
     "output_type": "stream",
     "text": [
      "1 5\n",
      "2 4\n",
      "3 3\n",
      "4 2\n",
      "5 1\n",
      "경우의 수: 5\n"
     ]
    }
   ],
   "source": [
    "count=0\n",
    "for i in range(1,7):\n",
    "    for j in range(1,7):\n",
    "        if i+j==6:\n",
    "            count+=1\n",
    "            print(i,j)\n",
    "print(\"경우의 수:\", count)"
   ]
  },
  {
   "cell_type": "code",
   "execution_count": null,
   "id": "e42b2bd2",
   "metadata": {},
   "outputs": [
    {
     "name": "stdout",
     "output_type": "stream",
     "text": [
      "20\n",
      "30\n"
     ]
    }
   ],
   "source": [
    "mylist = [10,20,30]\n",
    "print(mylist[1])\n",
    "print(mylist[-1])"
   ]
  },
  {
   "cell_type": "code",
   "execution_count": null,
   "id": "b3cd2b7a",
   "metadata": {},
   "outputs": [
    {
     "name": "stdout",
     "output_type": "stream",
     "text": [
      "10\n"
     ]
    }
   ],
   "source": [
    "first = mylist[0]\n",
    "print(first)"
   ]
  },
  {
   "cell_type": "code",
   "execution_count": null,
   "id": "21a4ea64",
   "metadata": {},
   "outputs": [
    {
     "name": "stdout",
     "output_type": "stream",
     "text": [
      "[10, 200, 30]\n"
     ]
    }
   ],
   "source": [
    "mylist[1]=200\n",
    "print(mylist)"
   ]
  },
  {
   "cell_type": "code",
   "execution_count": null,
   "id": "5dd184e1",
   "metadata": {},
   "outputs": [
    {
     "name": "stdout",
     "output_type": "stream",
     "text": [
      "[70, 80]\n"
     ]
    }
   ],
   "source": [
    "mylist = [60,70,80,90,100]\n",
    "print(mylist[1:3])"
   ]
  },
  {
   "cell_type": "code",
   "execution_count": null,
   "id": "64e89558",
   "metadata": {},
   "outputs": [
    {
     "name": "stdout",
     "output_type": "stream",
     "text": [
      "[70, 80]\n"
     ]
    }
   ],
   "source": [
    "print(mylist[1:-2])"
   ]
  },
  {
   "cell_type": "code",
   "execution_count": null,
   "id": "73d9c8d6",
   "metadata": {},
   "outputs": [
    {
     "name": "stdout",
     "output_type": "stream",
     "text": [
      "[90, 100]\n"
     ]
    }
   ],
   "source": [
    "print(mylist[3:])"
   ]
  },
  {
   "cell_type": "code",
   "execution_count": null,
   "id": "1e427e74",
   "metadata": {},
   "outputs": [
    {
     "name": "stdout",
     "output_type": "stream",
     "text": [
      "[60, 70, 80]\n"
     ]
    }
   ],
   "source": [
    "print(mylist[:3])"
   ]
  },
  {
   "cell_type": "code",
   "execution_count": null,
   "id": "1bdef428",
   "metadata": {},
   "outputs": [
    {
     "name": "stdout",
     "output_type": "stream",
     "text": [
      "[60, 70, 80, 90, 100]\n"
     ]
    }
   ],
   "source": [
    "print(mylist)"
   ]
  },
  {
   "cell_type": "code",
   "execution_count": null,
   "id": "363bf9c4",
   "metadata": {},
   "outputs": [
    {
     "name": "stdout",
     "output_type": "stream",
     "text": [
      "[60, 70, 80, 90, 100]\n"
     ]
    }
   ],
   "source": [
    "print(mylist[:])"
   ]
  },
  {
   "cell_type": "code",
   "execution_count": null,
   "id": "6d9d41fd",
   "metadata": {},
   "outputs": [
    {
     "name": "stdout",
     "output_type": "stream",
     "text": [
      "[1, 20, 30, 40, 5]\n"
     ]
    }
   ],
   "source": [
    "foo = [1,2,3,4,5]\n",
    "foo[1:4]=[20,30,40]\n",
    "print(foo)"
   ]
  },
  {
   "cell_type": "code",
   "execution_count": null,
   "id": "4b942a7b",
   "metadata": {},
   "outputs": [
    {
     "name": "stdout",
     "output_type": "stream",
     "text": [
      "[11, 55]\n"
     ]
    }
   ],
   "source": [
    "bar = [11,22,33,44,55]\n",
    "bar[1:4] = []\n",
    "print(bar)"
   ]
  },
  {
   "cell_type": "code",
   "execution_count": null,
   "id": "b5a4a6d9",
   "metadata": {},
   "outputs": [
    {
     "name": "stdout",
     "output_type": "stream",
     "text": [
      "[6, 100, 200, 300, 400, 500, 600, 700, 10]\n"
     ]
    }
   ],
   "source": [
    "hello = [6,7,8,9,10]\n",
    "hello [1:4] = [100,200,300,400,500,600,700]\n",
    "print(hello)"
   ]
  },
  {
   "cell_type": "code",
   "execution_count": null,
   "id": "d335b818",
   "metadata": {},
   "outputs": [
    {
     "name": "stdout",
     "output_type": "stream",
     "text": [
      "[11, 1000, 2000, 15]\n"
     ]
    }
   ],
   "source": [
    "world = [11,12,13,14,15]\n",
    "world[1:4] = [1000,2000]\n",
    "print(world)"
   ]
  },
  {
   "cell_type": "code",
   "execution_count": null,
   "id": "d8a4d3df",
   "metadata": {},
   "outputs": [
    {
     "name": "stdout",
     "output_type": "stream",
     "text": [
      "100\n",
      "100\n"
     ]
    }
   ],
   "source": [
    "a=100\n",
    "b=a\n",
    "print(a)\n",
    "print(b)"
   ]
  },
  {
   "cell_type": "code",
   "execution_count": null,
   "id": "99460e51",
   "metadata": {},
   "outputs": [
    {
     "name": "stdout",
     "output_type": "stream",
     "text": [
      "100\n"
     ]
    }
   ],
   "source": [
    "b=200\n",
    "print(a)"
   ]
  },
  {
   "cell_type": "code",
   "execution_count": null,
   "id": "36dfc429",
   "metadata": {},
   "outputs": [
    {
     "name": "stdout",
     "output_type": "stream",
     "text": [
      "200\n"
     ]
    }
   ],
   "source": [
    "print(b)"
   ]
  },
  {
   "cell_type": "code",
   "execution_count": null,
   "id": "a84d24be",
   "metadata": {},
   "outputs": [
    {
     "name": "stdout",
     "output_type": "stream",
     "text": [
      "[1, 2, 3]\n",
      "[1, 2, 3]\n"
     ]
    }
   ],
   "source": [
    "foo=[1,2,3]\n",
    "bar=foo\n",
    "print(foo)\n",
    "print(bar)"
   ]
  },
  {
   "cell_type": "code",
   "execution_count": null,
   "id": "7c8b625c",
   "metadata": {},
   "outputs": [
    {
     "name": "stdout",
     "output_type": "stream",
     "text": [
      "[1, 20, 3]\n",
      "[1, 20, 3]\n"
     ]
    }
   ],
   "source": [
    "bar[1]=20\n",
    "print(foo)\n",
    "print(bar)"
   ]
  },
  {
   "cell_type": "code",
   "execution_count": null,
   "id": "e6cbf932",
   "metadata": {},
   "outputs": [
    {
     "name": "stdout",
     "output_type": "stream",
     "text": [
      "[1, 2, 3]\n",
      "[1, 2, 1000]\n"
     ]
    }
   ],
   "source": [
    "bar=[1,2,3]\n",
    "cp1=[0,0,0]\n",
    "cp1[0]=bar[0]\n",
    "cp1[1]=bar[1]\n",
    "cp1[2]=bar[2]\n",
    "\n",
    "cp1[2]=1000\n",
    "print(bar)\n",
    "print(cp1)"
   ]
  },
  {
   "cell_type": "code",
   "execution_count": null,
   "id": "d33c731e",
   "metadata": {},
   "outputs": [],
   "source": [
    "hello = [100,200,300]\n",
    "cp2 = hello[:]"
   ]
  },
  {
   "cell_type": "code",
   "execution_count": null,
   "id": "0357a08e",
   "metadata": {},
   "outputs": [
    {
     "name": "stdout",
     "output_type": "stream",
     "text": [
      "[100, 200, 300]\n",
      "[100, 12345, 300]\n"
     ]
    }
   ],
   "source": [
    "cp2[1]=12345\n",
    "print(hello)\n",
    "print(cp2)"
   ]
  },
  {
   "cell_type": "code",
   "execution_count": null,
   "id": "199713ab",
   "metadata": {},
   "outputs": [
    {
     "name": "stdout",
     "output_type": "stream",
     "text": [
      "['hello', 'python', 'world']\n",
      "['nice', 'python', 'world']\n"
     ]
    }
   ],
   "source": [
    "world=[\"hello\",\"python\",\"world\"]\n",
    "cp3=world.copy()\n",
    "\n",
    "cp3[0]=\"nice\"\n",
    "print(world)\n",
    "print(cp3)"
   ]
  },
  {
   "cell_type": "code",
   "execution_count": null,
   "id": "98cf7e86",
   "metadata": {},
   "outputs": [
    {
     "name": "stdout",
     "output_type": "stream",
     "text": [
      "(98, 82, 73, 64, 100)\n"
     ]
    }
   ],
   "source": [
    "grade=(98,82,73,64,100)\n",
    "print(grade)"
   ]
  },
  {
   "cell_type": "code",
   "execution_count": null,
   "id": "7a43bb00",
   "metadata": {},
   "outputs": [
    {
     "name": "stdout",
     "output_type": "stream",
     "text": [
      "('철수', '영희', '나영', '민식', '호영')\n"
     ]
    }
   ],
   "source": [
    "names=(\"철수\",\"영희\",\"나영\",\"민식\",\"호영\")\n",
    "print(names)"
   ]
  },
  {
   "cell_type": "code",
   "execution_count": null,
   "id": "0bec9128",
   "metadata": {},
   "outputs": [
    {
     "name": "stdout",
     "output_type": "stream",
     "text": [
      "('철수', 98)\n"
     ]
    }
   ],
   "source": [
    "stud1=(\"철수\",98)\n",
    "print(stud1)"
   ]
  },
  {
   "cell_type": "code",
   "execution_count": null,
   "id": "907e3626",
   "metadata": {},
   "outputs": [
    {
     "name": "stdout",
     "output_type": "stream",
     "text": [
      "철수\n",
      "98\n"
     ]
    }
   ],
   "source": [
    "print(stud1[0])\n",
    "print(stud1[1])"
   ]
  },
  {
   "cell_type": "code",
   "execution_count": null,
   "id": "b631ed60",
   "metadata": {},
   "outputs": [],
   "source": [
    "a,b=[\"python\",\"bigdata\"]"
   ]
  },
  {
   "cell_type": "code",
   "execution_count": null,
   "id": "f6922ded",
   "metadata": {},
   "outputs": [
    {
     "name": "stdout",
     "output_type": "stream",
     "text": [
      "python\n"
     ]
    }
   ],
   "source": [
    "print(a)"
   ]
  },
  {
   "cell_type": "code",
   "execution_count": null,
   "id": "ff90a93a",
   "metadata": {},
   "outputs": [
    {
     "name": "stdout",
     "output_type": "stream",
     "text": [
      "bigdata\n"
     ]
    }
   ],
   "source": [
    "print(b)"
   ]
  },
  {
   "cell_type": "code",
   "execution_count": null,
   "id": "352d3a0d",
   "metadata": {},
   "outputs": [
    {
     "name": "stdout",
     "output_type": "stream",
     "text": [
      "[2, 1]\n"
     ]
    }
   ],
   "source": [
    "def divmod(a,b):\n",
    "    return[a//b,a%b]\n",
    "\n",
    "result = divmod(7,3)\n",
    "print(result)"
   ]
  },
  {
   "cell_type": "code",
   "execution_count": null,
   "id": "bcaa7208",
   "metadata": {},
   "outputs": [
    {
     "name": "stdout",
     "output_type": "stream",
     "text": [
      "몫:  2 , 나머지:  1\n"
     ]
    }
   ],
   "source": [
    "x,y = divmod(7,3)\n",
    "print(\"몫: \", x,\", 나머지: \", y)"
   ]
  },
  {
   "cell_type": "code",
   "execution_count": null,
   "id": "6d100c38",
   "metadata": {},
   "outputs": [
    {
     "name": "stdout",
     "output_type": "stream",
     "text": [
      "6\n"
     ]
    }
   ],
   "source": [
    "print(-1%7)\n"
   ]
  },
  {
   "cell_type": "code",
   "execution_count": null,
   "id": "285e1c43",
   "metadata": {},
   "outputs": [
    {
     "name": "stdout",
     "output_type": "stream",
     "text": [
      "이번에 출력되는 데이터 ->  [88, 72, 83, 90]\n",
      "[88, 72, 83, 90] 에 대한 총합 = 333 , 평균 = 83.25\n"
     ]
    },
    {
     "ename": "KeyboardInterrupt",
     "evalue": "",
     "output_type": "error",
     "traceback": [
      "\u001b[31m---------------------------------------------------------------------------\u001b[39m",
      "\u001b[31mKeyboardInterrupt\u001b[39m                         Traceback (most recent call last)",
      "\u001b[36mCell\u001b[39m\u001b[36m \u001b[39m\u001b[32mIn[43]\u001b[39m\u001b[32m, line 4\u001b[39m\n\u001b[32m      1\u001b[39m mydata =[[\u001b[32m88\u001b[39m,\u001b[32m72\u001b[39m,\u001b[32m83\u001b[39m,\u001b[32m90\u001b[39m],[\u001b[32m63\u001b[39m,\u001b[32m77\u001b[39m,\u001b[32m72\u001b[39m,\u001b[32m80\u001b[39m]]\n\u001b[32m      3\u001b[39m \u001b[38;5;28;01mfor\u001b[39;00m row \u001b[38;5;129;01min\u001b[39;00m mydata:\n\u001b[32m----> \u001b[39m\u001b[32m4\u001b[39m     \u001b[38;5;28;43mprint\u001b[39;49m(\u001b[33m\"\u001b[39m\u001b[33m이번에 출력되는 데이터 -> \u001b[39m\u001b[33m\"\u001b[39m,row)\n\u001b[32m      6\u001b[39m     total=\u001b[32m0\u001b[39m\n\u001b[32m      8\u001b[39m     \u001b[38;5;28;01mfor\u001b[39;00m col \u001b[38;5;129;01min\u001b[39;00m row:\n",
      "\u001b[36mFile \u001b[39m\u001b[32m<stringsource>:69\u001b[39m, in \u001b[36mcfunc.to_py.__Pyx_CFunc_b0409f__29_pydevd_sys_monitoring_cython_object__lParen__etc_to_py_4code_4line.wrap\u001b[39m\u001b[34m()\u001b[39m\n",
      "\u001b[36mFile \u001b[39m\u001b[32m_pydevd_sys_monitoring\\\\_pydevd_sys_monitoring_cython.pyx:1481\u001b[39m, in \u001b[36m_pydevd_sys_monitoring_cython._line_event\u001b[39m\u001b[34m()\u001b[39m\n",
      "\u001b[36mFile \u001b[39m\u001b[32m_pydevd_sys_monitoring\\\\_pydevd_sys_monitoring_cython.pyx:1586\u001b[39m, in \u001b[36m_pydevd_sys_monitoring_cython._internal_line_event\u001b[39m\u001b[34m()\u001b[39m\n",
      "\u001b[36mFile \u001b[39m\u001b[32m_pydevd_sys_monitoring\\\\_pydevd_sys_monitoring_cython.pyx:1961\u001b[39m, in \u001b[36m_pydevd_sys_monitoring_cython._do_wait_suspend\u001b[39m\u001b[34m()\u001b[39m\n",
      "\u001b[36mFile \u001b[39m\u001b[32m~\\AppData\\Roaming\\Python\\Python313\\site-packages\\debugpy\\_vendored\\pydevd\\pydevd.py:2188\u001b[39m, in \u001b[36mPyDB.do_wait_suspend\u001b[39m\u001b[34m(self, thread, frame, event, arg, exception_type)\u001b[39m\n\u001b[32m   2185\u001b[39m             from_this_thread.append(frame_custom_thread_id)\n\u001b[32m   2187\u001b[39m     \u001b[38;5;28;01mwith\u001b[39;00m \u001b[38;5;28mself\u001b[39m._threads_suspended_single_notification.notify_thread_suspended(thread_id, thread, stop_reason):\n\u001b[32m-> \u001b[39m\u001b[32m2188\u001b[39m         keep_suspended = \u001b[38;5;28;43mself\u001b[39;49m\u001b[43m.\u001b[49m\u001b[43m_do_wait_suspend\u001b[49m\u001b[43m(\u001b[49m\u001b[43mthread\u001b[49m\u001b[43m,\u001b[49m\u001b[43m \u001b[49m\u001b[43mframe\u001b[49m\u001b[43m,\u001b[49m\u001b[43m \u001b[49m\u001b[43mevent\u001b[49m\u001b[43m,\u001b[49m\u001b[43m \u001b[49m\u001b[43marg\u001b[49m\u001b[43m,\u001b[49m\u001b[43m \u001b[49m\u001b[43mtrace_suspend_type\u001b[49m\u001b[43m,\u001b[49m\u001b[43m \u001b[49m\u001b[43mfrom_this_thread\u001b[49m\u001b[43m,\u001b[49m\u001b[43m \u001b[49m\u001b[43mframes_tracker\u001b[49m\u001b[43m)\u001b[49m\n\u001b[32m   2190\u001b[39m frames_list = \u001b[38;5;28;01mNone\u001b[39;00m\n\u001b[32m   2192\u001b[39m \u001b[38;5;28;01mif\u001b[39;00m keep_suspended:\n\u001b[32m   2193\u001b[39m     \u001b[38;5;66;03m# This means that we should pause again after a set next statement.\u001b[39;00m\n",
      "\u001b[36mFile \u001b[39m\u001b[32m~\\AppData\\Roaming\\Python\\Python313\\site-packages\\debugpy\\_vendored\\pydevd\\pydevd.py:2257\u001b[39m, in \u001b[36mPyDB._do_wait_suspend\u001b[39m\u001b[34m(self, thread, frame, event, arg, trace_suspend_type, from_this_thread, frames_tracker)\u001b[39m\n\u001b[32m   2254\u001b[39m                 queue.put(internal_cmd)\n\u001b[32m   2255\u001b[39m                 wait_timeout = TIMEOUT_FAST\n\u001b[32m-> \u001b[39m\u001b[32m2257\u001b[39m         \u001b[43mnotify_event\u001b[49m\u001b[43m.\u001b[49m\u001b[43mwait\u001b[49m\u001b[43m(\u001b[49m\u001b[43mwait_timeout\u001b[49m\u001b[43m)\u001b[49m\n\u001b[32m   2258\u001b[39m         notify_event.clear()\n\u001b[32m   2260\u001b[39m \u001b[38;5;28;01mfinally\u001b[39;00m:\n",
      "\u001b[36mFile \u001b[39m\u001b[32mc:\\Users\\itwill\\AppData\\Local\\Programs\\Python\\Python313\\Lib\\threading.py:659\u001b[39m, in \u001b[36mEvent.wait\u001b[39m\u001b[34m(self, timeout)\u001b[39m\n\u001b[32m    657\u001b[39m signaled = \u001b[38;5;28mself\u001b[39m._flag\n\u001b[32m    658\u001b[39m \u001b[38;5;28;01mif\u001b[39;00m \u001b[38;5;129;01mnot\u001b[39;00m signaled:\n\u001b[32m--> \u001b[39m\u001b[32m659\u001b[39m     signaled = \u001b[38;5;28;43mself\u001b[39;49m\u001b[43m.\u001b[49m\u001b[43m_cond\u001b[49m\u001b[43m.\u001b[49m\u001b[43mwait\u001b[49m\u001b[43m(\u001b[49m\u001b[43mtimeout\u001b[49m\u001b[43m)\u001b[49m\n\u001b[32m    660\u001b[39m \u001b[38;5;28;01mreturn\u001b[39;00m signaled\n",
      "\u001b[36mFile \u001b[39m\u001b[32mc:\\Users\\itwill\\AppData\\Local\\Programs\\Python\\Python313\\Lib\\threading.py:363\u001b[39m, in \u001b[36mCondition.wait\u001b[39m\u001b[34m(self, timeout)\u001b[39m\n\u001b[32m    361\u001b[39m \u001b[38;5;28;01melse\u001b[39;00m:\n\u001b[32m    362\u001b[39m     \u001b[38;5;28;01mif\u001b[39;00m timeout > \u001b[32m0\u001b[39m:\n\u001b[32m--> \u001b[39m\u001b[32m363\u001b[39m         gotit = \u001b[43mwaiter\u001b[49m\u001b[43m.\u001b[49m\u001b[43macquire\u001b[49m\u001b[43m(\u001b[49m\u001b[38;5;28;43;01mTrue\u001b[39;49;00m\u001b[43m,\u001b[49m\u001b[43m \u001b[49m\u001b[43mtimeout\u001b[49m\u001b[43m)\u001b[49m\n\u001b[32m    364\u001b[39m     \u001b[38;5;28;01melse\u001b[39;00m:\n\u001b[32m    365\u001b[39m         gotit = waiter.acquire(\u001b[38;5;28;01mFalse\u001b[39;00m)\n",
      "\u001b[31mKeyboardInterrupt\u001b[39m: "
     ]
    }
   ],
   "source": [
    "mydata =[[88,72,83,90],[63,77,72,80]]\n",
    "\n",
    "for row in mydata:\n",
    "    print(\"이번에 출력되는 데이터 -> \",row)\n",
    "\n",
    "    total=0\n",
    "\n",
    "    for col in row:\n",
    "        total+=col\n",
    "\n",
    "    average = total/len(row)\n",
    "\n",
    "    print(row,\"에 대한 총합 =\", total, \", 평균 =\",average)"
   ]
  },
  {
   "cell_type": "code",
   "execution_count": null,
   "id": "30963577",
   "metadata": {},
   "outputs": [
    {
     "name": "stdout",
     "output_type": "stream",
     "text": [
      "40 64\n",
      "2\n",
      "2\n",
      "2\n",
      "5 8\n",
      "5 8\n",
      "5 8\n",
      "5 8\n",
      "5 8\n",
      "5 8\n",
      "5 8\n",
      "5 8\n",
      "5 8\n",
      "5 8\n",
      "5 8\n",
      "5 8\n",
      "5 8\n",
      "5 8\n",
      "5 8\n",
      "5 8\n",
      "5 8\n",
      "5 8\n",
      "5 8\n",
      "5 8\n",
      "5 8\n",
      "5 8\n",
      "5 8\n",
      "5 8\n",
      "5 8\n",
      "5 8\n",
      "5 8\n",
      "5 8\n",
      "5 8\n",
      "5 8\n",
      "5 8\n",
      "5 8\n",
      "5 8\n",
      "5 8\n",
      "5 8\n",
      "5 8\n",
      "5 8\n",
      "5 8\n",
      "[5, 8]\n"
     ]
    }
   ],
   "source": [
    "numer1=2\n",
    "denom1=8\n",
    "numer2=3\n",
    "denom2=8\n",
    "answer = []\n",
    "numer = numer1*denom2+numer2*denom1\n",
    "denom = denom1*denom2\n",
    "for i in range(2,numer+1):\n",
    "    print(numer,denom)\n",
    "    if(numer%i==0 and denom%i==0):\n",
    "        while numer % i == 0 and denom % i == 0:\n",
    "            print(i)\n",
    "            numer //= i\n",
    "            denom //= i\n",
    "answer.append(numer)\n",
    "answer.append(denom)\n",
    "print(answer)"
   ]
  },
  {
   "cell_type": "code",
   "execution_count": null,
   "id": "82ddd89c",
   "metadata": {},
   "outputs": [
    {
     "name": "stdout",
     "output_type": "stream",
     "text": [
      "0 번째 원소: 봄\n",
      "1 번째 원소: 여름\n",
      "2 번째 원소: 가을\n",
      "3 번째 원소: 겨울\n"
     ]
    }
   ],
   "source": [
    "seasons = ['봄','여름','가을','겨울']\n",
    "\n",
    "size = len(seasons)\n",
    "for i in range(0,size):\n",
    "    print(i,\"번째 원소:\", seasons[i])"
   ]
  },
  {
   "cell_type": "code",
   "execution_count": null,
   "id": "d8dbbcfe",
   "metadata": {},
   "outputs": [
    {
     "name": "stdout",
     "output_type": "stream",
     "text": [
      "python\n",
      "is\n",
      "good\n"
     ]
    }
   ],
   "source": [
    "msg = ['python','is','good']\n",
    "\n",
    "for i in msg:\n",
    "    print(i)"
   ]
  },
  {
   "cell_type": "code",
   "execution_count": null,
   "id": "df42a9ea",
   "metadata": {},
   "outputs": [
    {
     "name": "stdout",
     "output_type": "stream",
     "text": [
      "총점: 407 , 평균: 81\n"
     ]
    }
   ],
   "source": [
    "score = [100,82,98,76,51]\n",
    "\n",
    "total = 0\n",
    "\n",
    "for v in score:\n",
    "    total+=v\n",
    "\n",
    "avg = total // len(score)\n",
    "\n",
    "print(\"총점:\", total,\", 평균:\", avg)"
   ]
  },
  {
   "cell_type": "code",
   "execution_count": null,
   "id": "0a00f1c1",
   "metadata": {},
   "outputs": [
    {
     "name": "stdout",
     "output_type": "stream",
     "text": [
      "0 번째 값: 서울\n",
      "1 번째 값: 인천\n",
      "2 번째 값: 대구\n",
      "3 번째 값: 대전\n",
      "4 번째 값: 광주\n",
      "5 번째 값: 부산\n"
     ]
    }
   ],
   "source": [
    "city = ['서울','인천','대구','대전','광주','부산']\n",
    "\n",
    "for i, v in enumerate(city):\n",
    "    print(i,\"번째 값:\", v)"
   ]
  },
  {
   "cell_type": "code",
   "execution_count": null,
   "id": "44b3b51b",
   "metadata": {},
   "outputs": [
    {
     "name": "stdout",
     "output_type": "stream",
     "text": [
      "size =  2\n",
      "0 번째 데이터 -> [88, 72, 83, 90]\n",
      "1 번째 데이터 -> [63, 77, 72, 80]\n"
     ]
    }
   ],
   "source": [
    "mydata = [[88,72,83,90],[63,77,72,80]]\n",
    "\n",
    "size = len(mydata)\n",
    "print(\"size = \",size)\n",
    "\n",
    "for i in range(0,size):\n",
    "    print(i,\"번째 데이터 ->\", mydata[i])"
   ]
  },
  {
   "cell_type": "code",
   "execution_count": null,
   "id": "526b17bc",
   "metadata": {},
   "outputs": [
    {
     "name": "stdout",
     "output_type": "stream",
     "text": [
      "size= 2\n",
      "0 번째 데이터 -> [88, 72, 83, 90]\n",
      "0 번째 데이터 ==> 총합 =  333 평균= 83.25\n",
      "1 번째 데이터 -> [63, 77, 72, 80]\n",
      "1 번째 데이터 ==> 총합 =  292 평균= 73.0\n"
     ]
    }
   ],
   "source": [
    "size = len(mydata)\n",
    "print(\"size=\",size)\n",
    "\n",
    "for i in range(0,size):\n",
    "    print(i, \"번째 데이터 ->\", mydata[i])\n",
    "\n",
    "    total = 0\n",
    "    size = len(mydata[i])\n",
    "\n",
    "    for j in range(0,size):\n",
    "        total += mydata[i][j]\n",
    "    average = total / size\n",
    "    print(i,\"번째 데이터 ==> 총합 = \", total, \"평균=\", average)"
   ]
  },
  {
   "cell_type": "code",
   "execution_count": null,
   "id": "678a95c9",
   "metadata": {},
   "outputs": [],
   "source": [
    "mylist = [1,2,3,10,1,2,3,10]\n",
    "x=mylist.index(10)"
   ]
  },
  {
   "cell_type": "code",
   "execution_count": null,
   "id": "4d659dd5",
   "metadata": {},
   "outputs": [
    {
     "name": "stdout",
     "output_type": "stream",
     "text": [
      "3\n"
     ]
    }
   ],
   "source": [
    "print(x)"
   ]
  },
  {
   "cell_type": "code",
   "execution_count": null,
   "id": "58f93fdb",
   "metadata": {},
   "outputs": [
    {
     "ename": "ValueError",
     "evalue": "5 is not in list",
     "output_type": "error",
     "traceback": [
      "\u001b[31m---------------------------------------------------------------------------\u001b[39m",
      "\u001b[31mValueError\u001b[39m                                Traceback (most recent call last)",
      "\u001b[36mCell\u001b[39m\u001b[36m \u001b[39m\u001b[32mIn[10]\u001b[39m\u001b[32m, line 1\u001b[39m\n\u001b[32m----> \u001b[39m\u001b[32m1\u001b[39m y=\u001b[43mmylist\u001b[49m\u001b[43m.\u001b[49m\u001b[43mindex\u001b[49m\u001b[43m(\u001b[49m\u001b[32;43m5\u001b[39;49m\u001b[43m)\u001b[49m\n",
      "\u001b[31mValueError\u001b[39m: 5 is not in list"
     ]
    }
   ],
   "source": [
    "y=mylist.index(5)"
   ]
  },
  {
   "cell_type": "code",
   "execution_count": null,
   "id": "18baa871",
   "metadata": {},
   "outputs": [
    {
     "name": "stdout",
     "output_type": "stream",
     "text": [
      "3\n"
     ]
    }
   ],
   "source": [
    "mylist=[1,2,3]\n",
    "print(len(mylist))"
   ]
  },
  {
   "cell_type": "code",
   "execution_count": null,
   "id": "202f570f",
   "metadata": {},
   "outputs": [
    {
     "name": "stdout",
     "output_type": "stream",
     "text": [
      "[1, 3]\n"
     ]
    }
   ],
   "source": [
    "mylist=[1,2,3]\n",
    "del(mylist[1])\n",
    "print(mylist)"
   ]
  },
  {
   "cell_type": "code",
   "execution_count": null,
   "id": "04d373e9",
   "metadata": {},
   "outputs": [
    {
     "name": "stdout",
     "output_type": "stream",
     "text": [
      "[4, 2, 5, 3, 1]\n"
     ]
    }
   ],
   "source": [
    "mylist=[4,2,5,3,1]\n",
    "print(mylist)"
   ]
  },
  {
   "cell_type": "code",
   "execution_count": null,
   "id": "1d4d573d",
   "metadata": {},
   "outputs": [
    {
     "name": "stdout",
     "output_type": "stream",
     "text": [
      "[1, 2, 3, 4, 5]\n"
     ]
    }
   ],
   "source": [
    "asc=sorted(mylist)\n",
    "print(asc)"
   ]
  },
  {
   "cell_type": "code",
   "execution_count": null,
   "id": "bb33a6fc",
   "metadata": {},
   "outputs": [
    {
     "name": "stdout",
     "output_type": "stream",
     "text": [
      "[5, 4, 3, 2, 1]\n"
     ]
    }
   ],
   "source": [
    "desc = sorted(mylist,reverse=True)\n",
    "print(desc)"
   ]
  },
  {
   "cell_type": "code",
   "execution_count": null,
   "id": "13fac401",
   "metadata": {},
   "outputs": [
    {
     "name": "stdout",
     "output_type": "stream",
     "text": [
      "[4, 2, 5, 3, 1]\n"
     ]
    }
   ],
   "source": [
    "print(mylist)"
   ]
  },
  {
   "cell_type": "code",
   "execution_count": null,
   "id": "5ccfa987",
   "metadata": {},
   "outputs": [
    {
     "name": "stdout",
     "output_type": "stream",
     "text": [
      "3\n"
     ]
    }
   ],
   "source": [
    "a=[1,2,3]\n",
    "print(max(a))"
   ]
  },
  {
   "cell_type": "code",
   "execution_count": null,
   "id": "3f505cb3",
   "metadata": {},
   "outputs": [
    {
     "name": "stdout",
     "output_type": "stream",
     "text": [
      "1\n"
     ]
    }
   ],
   "source": [
    "print(min(a))"
   ]
  },
  {
   "cell_type": "code",
   "execution_count": null,
   "id": "18d6cf30",
   "metadata": {},
   "outputs": [
    {
     "name": "stdout",
     "output_type": "stream",
     "text": [
      "6\n"
     ]
    }
   ],
   "source": [
    "print(sum(a))"
   ]
  },
  {
   "cell_type": "code",
   "execution_count": null,
   "id": "9bfa7569",
   "metadata": {},
   "outputs": [
    {
     "name": "stdout",
     "output_type": "stream",
     "text": [
      "Life is too short\n",
      "You need Python\n"
     ]
    }
   ],
   "source": [
    "msg1 = \"Life is too short\"\n",
    "msg2 = 'You need Python'\n",
    "print(msg1)\n",
    "print(msg2)"
   ]
  },
  {
   "cell_type": "code",
   "execution_count": null,
   "id": "45b7afef",
   "metadata": {},
   "outputs": [
    {
     "name": "stdout",
     "output_type": "stream",
     "text": [
      "H\n",
      "e\n",
      "l\n",
      "l\n",
      "o\n"
     ]
    }
   ],
   "source": [
    "mymsg = \"Hello\"\n",
    "\n",
    "for m in mymsg:\n",
    "    print(m)"
   ]
  },
  {
   "cell_type": "code",
   "execution_count": null,
   "id": "0e4feffc",
   "metadata": {},
   "outputs": [
    {
     "name": "stdout",
     "output_type": "stream",
     "text": [
      "Hello, Python\n"
     ]
    }
   ],
   "source": [
    "msg1 = \"Hello\"\n",
    "msg2 = \"Python\"\n",
    "print(msg1 + \", \" + msg2)"
   ]
  },
  {
   "cell_type": "code",
   "execution_count": null,
   "id": "999e5b07",
   "metadata": {},
   "outputs": [
    {
     "name": "stdout",
     "output_type": "stream",
     "text": [
      "20000100\n"
     ]
    }
   ],
   "source": [
    "pay = \"20000\"\n",
    "bonus = \"100\"\n",
    "print(pay+bonus)"
   ]
  },
  {
   "cell_type": "code",
   "execution_count": null,
   "id": "5c088a08",
   "metadata": {},
   "outputs": [
    {
     "name": "stdout",
     "output_type": "stream",
     "text": [
      "PythonPythonPythonPythonPython\n"
     ]
    }
   ],
   "source": [
    "name = \"Python\"\n",
    "print(name*5)"
   ]
  },
  {
   "cell_type": "code",
   "execution_count": null,
   "id": "15a58b8f",
   "metadata": {},
   "outputs": [
    {
     "name": "stdout",
     "output_type": "stream",
     "text": [
      "Life is \"too\" short\n"
     ]
    }
   ],
   "source": [
    "case1 = \"Life is \\\"too\\\" short\"\n",
    "print(case1)"
   ]
  },
  {
   "cell_type": "code",
   "execution_count": null,
   "id": "6f9fee2d",
   "metadata": {},
   "outputs": [
    {
     "name": "stdout",
     "output_type": "stream",
     "text": [
      "Life is 'too' short\n"
     ]
    }
   ],
   "source": [
    "case2 = 'Life is \\'too\\' short'\n",
    "print(case2)"
   ]
  },
  {
   "cell_type": "code",
   "execution_count": null,
   "id": "e0a68f57",
   "metadata": {},
   "outputs": [
    {
     "name": "stdout",
     "output_type": "stream",
     "text": [
      "Life is too short\n",
      "You need Python\n"
     ]
    }
   ],
   "source": [
    "print(\"Life is too short\\nYou need Python\")"
   ]
  },
  {
   "cell_type": "code",
   "execution_count": null,
   "id": "e61a861e",
   "metadata": {},
   "outputs": [
    {
     "name": "stdout",
     "output_type": "stream",
     "text": [
      "Life is too short\\You need Python\n"
     ]
    }
   ],
   "source": [
    "print(\"Life is too short\\\\You need Python\")"
   ]
  },
  {
   "cell_type": "code",
   "execution_count": null,
   "id": "6427fe96",
   "metadata": {},
   "outputs": [],
   "source": [
    "str1 = \"You 'need' Python\""
   ]
  },
  {
   "cell_type": "code",
   "execution_count": null,
   "id": "9fe0a318",
   "metadata": {},
   "outputs": [
    {
     "name": "stdout",
     "output_type": "stream",
     "text": [
      "You 'need' Python\n"
     ]
    }
   ],
   "source": [
    "print(str1)"
   ]
  },
  {
   "cell_type": "code",
   "execution_count": null,
   "id": "2fd7a69b",
   "metadata": {},
   "outputs": [],
   "source": [
    "str2 = 'You \"need\" python'"
   ]
  },
  {
   "cell_type": "code",
   "execution_count": null,
   "id": "4d8feb02",
   "metadata": {},
   "outputs": [
    {
     "name": "stdout",
     "output_type": "stream",
     "text": [
      "You \"need\" python\n"
     ]
    }
   ],
   "source": [
    "print(str2)"
   ]
  },
  {
   "cell_type": "code",
   "execution_count": null,
   "id": "a40d2bce",
   "metadata": {},
   "outputs": [
    {
     "data": {
      "text/plain": [
       "'Life is too short, You need Python'"
      ]
     },
     "execution_count": 33,
     "metadata": {},
     "output_type": "execute_result"
    }
   ],
   "source": [
    "mystr = \"Life is too short, You need Python\"\n",
    "mystr"
   ]
  },
  {
   "cell_type": "code",
   "execution_count": null,
   "id": "17b18412",
   "metadata": {},
   "outputs": [
    {
     "name": "stdout",
     "output_type": "stream",
     "text": [
      "e\n"
     ]
    }
   ],
   "source": [
    "print(mystr[3])"
   ]
  },
  {
   "cell_type": "code",
   "execution_count": null,
   "id": "77e85a3f",
   "metadata": {},
   "outputs": [
    {
     "name": "stdout",
     "output_type": "stream",
     "text": [
      "h\n"
     ]
    }
   ],
   "source": [
    "print(mystr[-3])"
   ]
  },
  {
   "cell_type": "code",
   "execution_count": null,
   "id": "297edd37",
   "metadata": {},
   "outputs": [
    {
     "name": "stdout",
     "output_type": "stream",
     "text": [
      " is \n"
     ]
    }
   ],
   "source": [
    "print(mystr[4:8])"
   ]
  },
  {
   "cell_type": "code",
   "execution_count": null,
   "id": "e5d9dbd6",
   "metadata": {},
   "outputs": [
    {
     "name": "stdout",
     "output_type": "stream",
     "text": [
      "need\n"
     ]
    }
   ],
   "source": [
    "print(mystr[-11:-7])"
   ]
  },
  {
   "cell_type": "code",
   "execution_count": null,
   "id": "5fdacbef",
   "metadata": {},
   "outputs": [
    {
     "name": "stdout",
     "output_type": "stream",
     "text": [
      "Life\n"
     ]
    }
   ],
   "source": [
    "print(mystr[0:4])"
   ]
  },
  {
   "cell_type": "code",
   "execution_count": null,
   "id": "cc33324d",
   "metadata": {},
   "outputs": [
    {
     "name": "stdout",
     "output_type": "stream",
     "text": [
      "is\n"
     ]
    }
   ],
   "source": [
    "print(mystr[5:7])"
   ]
  },
  {
   "cell_type": "code",
   "execution_count": null,
   "id": "cb8f94ad",
   "metadata": {},
   "outputs": [
    {
     "name": "stdout",
     "output_type": "stream",
     "text": [
      "You need Python\n"
     ]
    }
   ],
   "source": [
    "print(mystr[19:])"
   ]
  },
  {
   "cell_type": "code",
   "execution_count": null,
   "id": "38c0e9f5",
   "metadata": {},
   "outputs": [
    {
     "name": "stdout",
     "output_type": "stream",
     "text": [
      "Life is too short\n"
     ]
    }
   ],
   "source": [
    "print(mystr[:17])"
   ]
  },
  {
   "cell_type": "code",
   "execution_count": null,
   "id": "06a1a716",
   "metadata": {},
   "outputs": [
    {
     "name": "stdout",
     "output_type": "stream",
     "text": [
      "Life is too short, You need Python\n"
     ]
    }
   ],
   "source": [
    "print(mystr[:])"
   ]
  },
  {
   "cell_type": "code",
   "execution_count": null,
   "id": "fe0f02b1",
   "metadata": {},
   "outputs": [
    {
     "name": "stdout",
     "output_type": "stream",
     "text": [
      "You need\n"
     ]
    }
   ],
   "source": [
    "print(mystr[19:-7])"
   ]
  },
  {
   "cell_type": "code",
   "execution_count": null,
   "id": "0ef6bd7f",
   "metadata": {},
   "outputs": [
    {
     "name": "stdout",
     "output_type": "stream",
     "text": [
      "\n"
     ]
    }
   ],
   "source": [
    "print(mystr[7:5])"
   ]
  },
  {
   "cell_type": "code",
   "execution_count": null,
   "id": "15a1b5f0",
   "metadata": {},
   "outputs": [
    {
     "name": "stdout",
     "output_type": "stream",
     "text": [
      "나는 10000원을 갖고 있다.\n"
     ]
    }
   ],
   "source": [
    "str1 = \"나는 %d원을 갖고 있다.\" %10000\n",
    "print(str1)"
   ]
  },
  {
   "cell_type": "code",
   "execution_count": null,
   "id": "8a9fe6b3",
   "metadata": {},
   "outputs": [
    {
     "name": "stdout",
     "output_type": "stream",
     "text": [
      "[123.456789]원 입니다.\n"
     ]
    }
   ],
   "source": [
    "money = 123.456789\n",
    "print(\"[%f]원 입니다.\" %money)"
   ]
  },
  {
   "cell_type": "code",
   "execution_count": null,
   "id": "70be3845",
   "metadata": {},
   "outputs": [
    {
     "name": "stdout",
     "output_type": "stream",
     "text": [
      "Hello Python\n"
     ]
    }
   ],
   "source": [
    "lang = \"Python\"\n",
    "str2 = \"Hello %s\" % lang\n",
    "print(str2)"
   ]
  },
  {
   "cell_type": "code",
   "execution_count": null,
   "id": "94149e84",
   "metadata": {},
   "outputs": [],
   "source": [
    "str3 = \"%s 날짜는 %d년 %d월 %d일 입니다.\"\n",
    "msg1 = str3 %(\"정모\", 2023,1,1)"
   ]
  },
  {
   "cell_type": "code",
   "execution_count": null,
   "id": "eee8d97f",
   "metadata": {},
   "outputs": [
    {
     "name": "stdout",
     "output_type": "stream",
     "text": [
      "정모 날짜는 2023년 1월 1일 입니다.\n",
      "약속 날짜는 2023년 3월 5일 입니다.\n"
     ]
    }
   ],
   "source": [
    "msg2 = str3%(\"약속\", 2023,3,5)\n",
    "print(msg1)\n",
    "print(msg2)"
   ]
  },
  {
   "cell_type": "code",
   "execution_count": null,
   "id": "3dbe1f38",
   "metadata": {},
   "outputs": [
    {
     "name": "stdout",
     "output_type": "stream",
     "text": [
      "[    120000]원을 입금했습니다.\n"
     ]
    }
   ],
   "source": [
    "print(\"[%10d]원을 입금했습니다.\" %120000)"
   ]
  },
  {
   "cell_type": "code",
   "execution_count": null,
   "id": "5ac720b4",
   "metadata": {},
   "outputs": [
    {
     "name": "stdout",
     "output_type": "stream",
     "text": [
      "[0000120000]원을 입금했습니다.\n"
     ]
    }
   ],
   "source": [
    "print(\"[%010d]원을 입금했습니다.\" % 120000)"
   ]
  },
  {
   "cell_type": "code",
   "execution_count": null,
   "id": "d1e793af",
   "metadata": {},
   "outputs": [
    {
     "name": "stdout",
     "output_type": "stream",
     "text": [
      "[      대한민국]에 살고 있습니다.\n"
     ]
    }
   ],
   "source": [
    "print(\"[%10s]에 살고 있습니다.\" % \"대한민국\")"
   ]
  },
  {
   "cell_type": "code",
   "execution_count": null,
   "id": "c36bbed6",
   "metadata": {},
   "outputs": [
    {
     "name": "stdout",
     "output_type": "stream",
     "text": [
      "[12345.679]원 입니다.\n"
     ]
    }
   ],
   "source": [
    "myMoney = 12345.6789\n",
    "\n",
    "print(\"[%0.3f]원 입니다.\" % myMoney)"
   ]
  },
  {
   "cell_type": "code",
   "execution_count": null,
   "id": "bb35d42b",
   "metadata": {},
   "outputs": [
    {
     "name": "stdout",
     "output_type": "stream",
     "text": [
      "[ 12345.679]원 입니다.\n"
     ]
    }
   ],
   "source": [
    "print(\"[%10.3f]원 입니다.\" %myMoney)"
   ]
  },
  {
   "cell_type": "code",
   "execution_count": null,
   "id": "387bca35",
   "metadata": {},
   "outputs": [
    {
     "name": "stdout",
     "output_type": "stream",
     "text": [
      "[012345.679]원 입니다.\n"
     ]
    }
   ],
   "source": [
    "print(\"[%010.3f]원 입니다.\" %myMoney)"
   ]
  },
  {
   "cell_type": "code",
   "execution_count": null,
   "id": "f4865503",
   "metadata": {},
   "outputs": [
    {
     "name": "stdout",
     "output_type": "stream",
     "text": [
      "I eat 3 apples\n"
     ]
    }
   ],
   "source": [
    "msg1 = \"I eat {0} apples\"\n",
    "print(msg1.format(3))"
   ]
  },
  {
   "cell_type": "code",
   "execution_count": null,
   "id": "9afddf1c",
   "metadata": {},
   "outputs": [
    {
     "name": "stdout",
     "output_type": "stream",
     "text": [
      "개강일은 2023년 1월 26일 입니다.\n"
     ]
    }
   ],
   "source": [
    "msg2 = \"{0}은 {1}년 {2}월 {3}일 입니다.\"\n",
    "print(msg2.format(\"개강일\",2023,1,26))"
   ]
  },
  {
   "cell_type": "code",
   "execution_count": null,
   "id": "4721747a",
   "metadata": {},
   "outputs": [
    {
     "name": "stdout",
     "output_type": "stream",
     "text": [
      "이 과자는 2000원 입니다.\n"
     ]
    }
   ],
   "source": [
    "fmt = \"이 과자는 {price}{unit} 입니다.\"\n",
    "rst = fmt.format(unit = \"원\",price = 2000)\n",
    "print(rst)"
   ]
  },
  {
   "cell_type": "code",
   "execution_count": null,
   "id": "a6b97e20",
   "metadata": {},
   "outputs": [
    {
     "name": "stdout",
     "output_type": "stream",
     "text": [
      "생일은 2023년 1월 31일 입니다.\n"
     ]
    }
   ],
   "source": [
    "msg4 = \"{0}은 {yy}년 {mm}월 {dd}일 입니다.\"\n",
    "print(msg4.format(\"생일\",yy=2023,mm=1,dd=31))"
   ]
  },
  {
   "cell_type": "code",
   "execution_count": null,
   "id": "61fd6005",
   "metadata": {},
   "outputs": [
    {
     "name": "stdout",
     "output_type": "stream",
     "text": [
      "좋은 교과서는 이 책 입니다.\n"
     ]
    }
   ],
   "source": [
    "fmt5 = \"{1} {name}는 이 {0} 입니다.\"\n",
    "rst = fmt5.format(\"책\",\"좋은\", name=\"교과서\")\n",
    "print(rst)"
   ]
  },
  {
   "cell_type": "code",
   "execution_count": null,
   "id": "fac3bc0b",
   "metadata": {},
   "outputs": [
    {
     "name": "stdout",
     "output_type": "stream",
     "text": [
      "12\n"
     ]
    }
   ],
   "source": [
    "mystr = \"Hello Python\"\n",
    "length = len(mystr)\n",
    "print(length)"
   ]
  },
  {
   "cell_type": "code",
   "execution_count": null,
   "id": "33d99751",
   "metadata": {},
   "outputs": [
    {
     "name": "stdout",
     "output_type": "stream",
     "text": [
      "9\n"
     ]
    }
   ],
   "source": [
    "print(len(\"안녕하세요 파이썬\"))"
   ]
  },
  {
   "cell_type": "code",
   "execution_count": null,
   "id": "34b1e0ec",
   "metadata": {},
   "outputs": [],
   "source": [
    "num1 = 123\n",
    "num1_s = str(num1)"
   ]
  },
  {
   "cell_type": "code",
   "execution_count": null,
   "id": "0bac8b61",
   "metadata": {},
   "outputs": [
    {
     "name": "stdout",
     "output_type": "stream",
     "text": [
      "<class 'str'>\n"
     ]
    }
   ],
   "source": [
    "print(type(num1_s))"
   ]
  },
  {
   "cell_type": "code",
   "execution_count": null,
   "id": "7bbc0fa3",
   "metadata": {},
   "outputs": [
    {
     "name": "stdout",
     "output_type": "stream",
     "text": [
      "123\n"
     ]
    }
   ],
   "source": [
    "print(num1_s)"
   ]
  },
  {
   "cell_type": "code",
   "execution_count": null,
   "id": "7f0757f6",
   "metadata": {},
   "outputs": [
    {
     "name": "stdout",
     "output_type": "stream",
     "text": [
      "<class 'str'>\n",
      "True\n"
     ]
    }
   ],
   "source": [
    "bool1=True\n",
    "bool1_s = str(bool1)\n",
    "print(type(bool1_s))\n",
    "print(bool1_s)"
   ]
  },
  {
   "cell_type": "code",
   "execution_count": null,
   "id": "d7e7e22c",
   "metadata": {},
   "outputs": [
    {
     "name": "stdout",
     "output_type": "stream",
     "text": [
      "<class 'str'>\n",
      "123.45\n"
     ]
    }
   ],
   "source": [
    "num2 = 123.45\n",
    "num2_s = str(num2)\n",
    "print(type(num2_s))\n",
    "print(num2_s)"
   ]
  },
  {
   "cell_type": "code",
   "execution_count": null,
   "id": "a299ca9d",
   "metadata": {},
   "outputs": [
    {
     "name": "stdout",
     "output_type": "stream",
     "text": [
      "4\n",
      "0\n"
     ]
    }
   ],
   "source": [
    "mystr = \"파이썬은 웹 프로그래밍이나 데이터 분석에 많이 사용되는 언어입니다.\"\n",
    "print(mystr.count(\"이\"))\n",
    "print(mystr.count(\"가\"))"
   ]
  },
  {
   "cell_type": "code",
   "execution_count": null,
   "id": "b5942052",
   "metadata": {},
   "outputs": [
    {
     "name": "stdout",
     "output_type": "stream",
     "text": [
      "1\n",
      "0\n"
     ]
    }
   ],
   "source": [
    "print(mystr.count(\"파이썬\"))\n",
    "print(mystr.count(\"Python\"))"
   ]
  },
  {
   "cell_type": "code",
   "execution_count": null,
   "id": "f440b81d",
   "metadata": {},
   "outputs": [
    {
     "name": "stdout",
     "output_type": "stream",
     "text": [
      "1\n",
      "-1\n"
     ]
    }
   ],
   "source": [
    "message = \"내가 좋아하는 것에만 집중하기로 했다.\"\n",
    "\n",
    "print(message.find(\"가\"))\n",
    "print(message.find(\"나\"))\n"
   ]
  },
  {
   "cell_type": "code",
   "execution_count": null,
   "id": "6d3a598d",
   "metadata": {},
   "outputs": [
    {
     "name": "stdout",
     "output_type": "stream",
     "text": [
      "12\n",
      "-1\n"
     ]
    }
   ],
   "source": [
    "print(message.find(\"집중\"))\n",
    "print(message.find(\"파이썬\" \\\n",
    "\"\"))"
   ]
  },
  {
   "cell_type": "code",
   "execution_count": null,
   "id": "615fffb4",
   "metadata": {},
   "outputs": [
    {
     "name": "stdout",
     "output_type": "stream",
     "text": [
      "11\n",
      "-1\n"
     ]
    }
   ],
   "source": [
    "sentence = \"사람의 사람에 의한 사람을 위한\"\n",
    "\n",
    "print(sentence.rfind(\"사\"))\n",
    "print(sentence.rfind(\"자\"))"
   ]
  },
  {
   "cell_type": "code",
   "execution_count": null,
   "id": "14798c1f",
   "metadata": {},
   "outputs": [
    {
     "name": "stdout",
     "output_type": "stream",
     "text": [
      "11\n",
      "-1\n"
     ]
    }
   ],
   "source": [
    "print(sentence.rfind(\"사람\"))\n",
    "print(sentence.rfind(\"인간\"))"
   ]
  },
  {
   "cell_type": "code",
   "execution_count": null,
   "id": "9fd98df6",
   "metadata": {},
   "outputs": [
    {
     "name": "stdout",
     "output_type": "stream",
     "text": [
      "True\n"
     ]
    }
   ],
   "source": [
    "test3 = \"HELLO\"\n",
    "print(test3.isupper())"
   ]
  },
  {
   "cell_type": "code",
   "execution_count": null,
   "id": "25a4227c",
   "metadata": {},
   "outputs": [
    {
     "name": "stdout",
     "output_type": "stream",
     "text": [
      "False\n"
     ]
    }
   ],
   "source": [
    "test4 = \"Hello\"\n",
    "print(test4.isupper())"
   ]
  },
  {
   "cell_type": "code",
   "execution_count": null,
   "id": "aacd5c3c",
   "metadata": {},
   "outputs": [
    {
     "name": "stdout",
     "output_type": "stream",
     "text": [
      "True\n"
     ]
    }
   ],
   "source": [
    "test5 = \"hello\"\n",
    "print(test5.islower())"
   ]
  },
  {
   "cell_type": "code",
   "execution_count": null,
   "id": "17eeec2c",
   "metadata": {},
   "outputs": [
    {
     "name": "stdout",
     "output_type": "stream",
     "text": [
      "False\n"
     ]
    }
   ],
   "source": [
    "test6 = \"Hello\"\n",
    "print(test6.islower())"
   ]
  },
  {
   "cell_type": "code",
   "execution_count": null,
   "id": "beddb09a",
   "metadata": {},
   "outputs": [
    {
     "name": "stdout",
     "output_type": "stream",
     "text": [
      "HELLO PYTHON\n"
     ]
    }
   ],
   "source": [
    "mystr=\"Hello Python\"\n",
    "up = mystr.upper()\n",
    "print(up)"
   ]
  },
  {
   "cell_type": "code",
   "execution_count": null,
   "id": "fd28b222",
   "metadata": {},
   "outputs": [
    {
     "name": "stdout",
     "output_type": "stream",
     "text": [
      "hello python\n"
     ]
    }
   ],
   "source": [
    "lw = mystr.lower()\n",
    "print(lw)"
   ]
  },
  {
   "cell_type": "code",
   "execution_count": null,
   "id": "0c4b6ced",
   "metadata": {},
   "outputs": [
    {
     "name": "stdout",
     "output_type": "stream",
     "text": [
      "Hello Python\n"
     ]
    }
   ],
   "source": [
    "print(mystr)"
   ]
  },
  {
   "cell_type": "code",
   "execution_count": null,
   "id": "ee904d5b",
   "metadata": {},
   "outputs": [
    {
     "name": "stdout",
     "output_type": "stream",
     "text": [
      "hELLO pYTHON\n"
     ]
    }
   ],
   "source": [
    "print(mystr.swapcase())"
   ]
  },
  {
   "cell_type": "code",
   "execution_count": null,
   "id": "f991ec2f",
   "metadata": {},
   "outputs": [
    {
     "name": "stdout",
     "output_type": "stream",
     "text": [
      "Hello python\n"
     ]
    }
   ],
   "source": [
    "print(mystr.capitalize())"
   ]
  },
  {
   "cell_type": "code",
   "execution_count": null,
   "id": "f468ab78",
   "metadata": {},
   "outputs": [
    {
     "name": "stdout",
     "output_type": "stream",
     "text": [
      "Hello Python\n"
     ]
    }
   ],
   "source": [
    "print(mystr.title())"
   ]
  },
  {
   "cell_type": "code",
   "execution_count": null,
   "id": "cfca50d3",
   "metadata": {},
   "outputs": [
    {
     "name": "stdout",
     "output_type": "stream",
     "text": [
      "[ python  ]\n"
     ]
    }
   ],
   "source": [
    "k=\" python  \"\n",
    "print(\"[\"+ k +\"]\")"
   ]
  },
  {
   "cell_type": "code",
   "execution_count": null,
   "id": "42de5ebe",
   "metadata": {},
   "outputs": [
    {
     "name": "stdout",
     "output_type": "stream",
     "text": [
      "[python]\n"
     ]
    }
   ],
   "source": [
    "x = k.strip()\n",
    "print(\"[\"+x+\"]\")"
   ]
  },
  {
   "cell_type": "code",
   "execution_count": null,
   "id": "9bd1c9ac",
   "metadata": {},
   "outputs": [
    {
     "name": "stdout",
     "output_type": "stream",
     "text": [
      "[python  ]\n"
     ]
    }
   ],
   "source": [
    "y = k.lstrip()\n",
    "print(\"[\"+y+\"]\")"
   ]
  },
  {
   "cell_type": "code",
   "execution_count": null,
   "id": "8d70525a",
   "metadata": {},
   "outputs": [
    {
     "name": "stdout",
     "output_type": "stream",
     "text": [
      "[ python]\n"
     ]
    }
   ],
   "source": [
    "z=k.rstrip()\n",
    "print(\"[\"+z+\"]\")"
   ]
  },
  {
   "cell_type": "code",
   "execution_count": null,
   "id": "0b34fd29",
   "metadata": {},
   "outputs": [],
   "source": [
    "myMessage=\"Hello World\"\n",
    "newMessage=myMessage.replace(\"World\", \"Python\")"
   ]
  },
  {
   "cell_type": "code",
   "execution_count": null,
   "id": "8069556a",
   "metadata": {},
   "outputs": [
    {
     "name": "stdout",
     "output_type": "stream",
     "text": [
      "Hello Python\n",
      "Hello World\n"
     ]
    }
   ],
   "source": [
    "print(newMessage)\n",
    "print(myMessage)"
   ]
  },
  {
   "cell_type": "code",
   "execution_count": null,
   "id": "f9959a37",
   "metadata": {},
   "outputs": [
    {
     "name": "stdout",
     "output_type": "stream",
     "text": [
      "['파이썬', '데이터분석', '머신러닝']\n"
     ]
    }
   ],
   "source": [
    "sample1 = \"파이썬,데이터분석,머신러닝\"\n",
    "slist1 = sample1.split(\",\")\n",
    "print(slist1)"
   ]
  },
  {
   "cell_type": "code",
   "execution_count": null,
   "id": "7e0f3196",
   "metadata": {},
   "outputs": [
    {
     "name": "stdout",
     "output_type": "stream",
     "text": [
      "['파이썬', '데이터분석', '머신러닝']\n"
     ]
    }
   ],
   "source": [
    "sample2 = \"파이썬 데이터분석 머신러닝\"\n",
    "slist2 = sample2.split()\n",
    "print(slist2)"
   ]
  },
  {
   "cell_type": "code",
   "execution_count": null,
   "id": "30179235",
   "metadata": {},
   "outputs": [
    {
     "name": "stdout",
     "output_type": "stream",
     "text": [
      "True\n"
     ]
    }
   ],
   "source": [
    "test1 = \"123\"\n",
    "print(test1.isnumeric())"
   ]
  },
  {
   "cell_type": "code",
   "execution_count": null,
   "id": "e91a628b",
   "metadata": {},
   "outputs": [
    {
     "name": "stdout",
     "output_type": "stream",
     "text": [
      "False\n"
     ]
    }
   ],
   "source": [
    "test2=\"Hello123\"\n",
    "print(test2.isnumeric())"
   ]
  },
  {
   "cell_type": "code",
   "execution_count": null,
   "id": "f5777bfe",
   "metadata": {},
   "outputs": [
    {
     "name": "stdout",
     "output_type": "stream",
     "text": [
      "{'name': '철수', 'phone': '010-1234-5678', 'birth': '0115'}\n"
     ]
    }
   ],
   "source": [
    "mydic={\"name\":\"철수\",\"phone\": \"010-1234-5678\",\"birth\":\"0115\"}\n",
    "print(mydic)"
   ]
  },
  {
   "cell_type": "code",
   "execution_count": null,
   "id": "b19659ca",
   "metadata": {},
   "outputs": [
    {
     "name": "stdout",
     "output_type": "stream",
     "text": [
      "철수\n"
     ]
    }
   ],
   "source": [
    "print(mydic[\"name\"])"
   ]
  },
  {
   "cell_type": "code",
   "execution_count": null,
   "id": "a0a54fbb",
   "metadata": {},
   "outputs": [],
   "source": [
    "phone = mydic[\"phone\"]"
   ]
  },
  {
   "cell_type": "code",
   "execution_count": null,
   "id": "5228e681",
   "metadata": {},
   "outputs": [
    {
     "name": "stdout",
     "output_type": "stream",
     "text": [
      "010-1234-5678\n"
     ]
    }
   ],
   "source": [
    "print(phone)"
   ]
  },
  {
   "cell_type": "code",
   "execution_count": null,
   "id": "ea62cb34",
   "metadata": {},
   "outputs": [
    {
     "name": "stdout",
     "output_type": "stream",
     "text": [
      "{'name': '호영', 'phone': '010-1234-5678', 'birth': '0115'}\n"
     ]
    }
   ],
   "source": [
    "mydic[\"name\"] = \"호영\"\n",
    "print(mydic)"
   ]
  },
  {
   "cell_type": "code",
   "execution_count": null,
   "id": "fb1c81b3",
   "metadata": {},
   "outputs": [
    {
     "name": "stdout",
     "output_type": "stream",
     "text": [
      "{'a': 100, 'b': 200, 'c': 300}\n"
     ]
    }
   ],
   "source": [
    "foo = {\"a\":100,\"b\":200}\n",
    "foo[\"c\"]=300\n",
    "print(foo)"
   ]
  },
  {
   "cell_type": "code",
   "execution_count": null,
   "id": "7adccb9e",
   "metadata": {},
   "outputs": [
    {
     "name": "stdout",
     "output_type": "stream",
     "text": [
      "python\n"
     ]
    },
    {
     "data": {
      "text/plain": [
       "{'msg': 'python'}"
      ]
     },
     "execution_count": 8,
     "metadata": {},
     "output_type": "execute_result"
    }
   ],
   "source": [
    "data={\"msg\":\"hello\",\"msg\":\"world\",\"msg\":\"python\"}\n",
    "print(data['msg'])\n",
    "data"
   ]
  },
  {
   "cell_type": "code",
   "execution_count": null,
   "id": "8e6208a0",
   "metadata": {},
   "outputs": [
    {
     "name": "stdout",
     "output_type": "stream",
     "text": [
      "0번째 원소: {'name': '철수', 'kor': 95, 'eng': 88}\n",
      "1번째 원소: {'name': '영희', 'kor': 92, 'eng': 90}\n",
      "2번째 원소: {'name': '철민', 'kor': 88, 'eng': 76}\n"
     ]
    }
   ],
   "source": [
    "grade = [\n",
    "    {\"name\":\"철수\",\"kor\":95,\"eng\":88},\n",
    "    {\"name\":\"영희\",\"kor\":92,\"eng\":90},\n",
    "    {\"name\":\"철민\",\"kor\":88,\"eng\":76},\n",
    "]\n",
    "\n",
    "print(\"0번째 원소: %s\" % grade[0])\n",
    "print(\"1번째 원소: %s\" % grade[1])\n",
    "print(\"2번째 원소: %s\" % grade[2])\n"
   ]
  },
  {
   "cell_type": "code",
   "execution_count": null,
   "id": "12f5679a",
   "metadata": {},
   "outputs": [
    {
     "name": "stdout",
     "output_type": "stream",
     "text": [
      "철수의 국어점수:95, 영어점수: 88\n",
      "영희의 국어점수:92, 영어점수: 90\n",
      "철민의 국어점수:88, 영어점수: 76\n"
     ]
    }
   ],
   "source": [
    "tpl = \"{0}의 국어점수:{1}, 영어점수: {2}\"\n",
    "print(tpl.format(grade[0][\"name\"], grade[0][\"kor\"],grade[0][\"eng\"]))\n",
    "print(tpl.format(grade[1][\"name\"], grade[1][\"kor\"],grade[1][\"eng\"]))\n",
    "print(tpl.format(grade[2][\"name\"], grade[2][\"kor\"],grade[2][\"eng\"]))"
   ]
  },
  {
   "cell_type": "code",
   "execution_count": null,
   "id": "d1a81222",
   "metadata": {},
   "outputs": [
    {
     "name": "stdout",
     "output_type": "stream",
     "text": [
      "[철수] 나이: 16세, 키: 172.4cm\n",
      "[민수] 나이: 17세, 키: 168.2cm\n",
      "[호영] 나이: 19세, 키: 170.5cm\n"
     ]
    }
   ],
   "source": [
    "student = {\n",
    "    \"name\": ['철수','민수','호영'],\n",
    "    \"age\" : [16,17,19],\n",
    "    \"height\": [172.4,168.2,170.5]\n",
    "}\n",
    "tpl = \"[%s] 나이: %d세, 키: %0.1fcm\"\n",
    "print(tpl % (student['name'][0], student['age'][0], student['height'][0]))\n",
    "print(tpl % (student['name'][1], student['age'][1], student['height'][1]))\n",
    "print(tpl % (student['name'][2], student['age'][2], student['height'][2]))"
   ]
  },
  {
   "cell_type": "code",
   "execution_count": null,
   "id": "9a7f7d85",
   "metadata": {},
   "outputs": [
    {
     "name": "stdout",
     "output_type": "stream",
     "text": [
      "iPhone의 가격은 200$입니다.\n",
      "Galluxy의 가격은 200만원입니다.\n"
     ]
    }
   ],
   "source": [
    "phone = {\n",
    "    \"apple\": {\n",
    "        \"name\":\"iPhone\",\n",
    "        \"price\":\"200$\"\n",
    "    },\n",
    "    \"samsung\":{\n",
    "        \"name\":\"Galluxy\",\n",
    "        \"price\":\"200만원\"\n",
    "    }\n",
    "}\n",
    "\n",
    "tpl = \"%s의 가격은 %s입니다.\"\n",
    "print(tpl % (phone['apple']['name'], phone['apple']['price']))\n",
    "print(tpl % (phone['samsung']['name'], phone['samsung']['price']))"
   ]
  },
  {
   "cell_type": "code",
   "execution_count": null,
   "id": "9dc86a4e",
   "metadata": {},
   "outputs": [
    {
     "name": "stdout",
     "output_type": "stream",
     "text": [
      "email: user1@python.com, comment: Good~!!\n",
      "email: user2@python.com, comment: Nice~!!\n",
      "email: user3@python.com, comment: Not Bad\n"
     ]
    }
   ],
   "source": [
    "review = {\n",
    "    \"items\": [\n",
    "        {\"email\": \"user1@python.com\",\"comment\": \"Good~!!\"},\n",
    "        {\"email\": \"user2@python.com\",\"comment\": \"Nice~!!\"},\n",
    "        {\"email\": \"user3@python.com\",\"comment\": \"Not Bad\"}\n",
    "    ]\n",
    "}\n",
    "\n",
    "tpl = \"email: {0}, comment: {1}\"\n",
    "for item in review[\"items\"]:\n",
    "    print(tpl.format(item[\"email\"],item[\"comment\"]))"
   ]
  },
  {
   "cell_type": "code",
   "execution_count": null,
   "id": "8a5d1487",
   "metadata": {},
   "outputs": [
    {
     "name": "stdout",
     "output_type": "stream",
     "text": [
      "파이썬 프로그래밍\n",
      "No.1 - 1일차 : 프로그래밍 언어의 이해\n",
      "No.2 - 2일차 : 변수와 연산자\n",
      "No.3 - 3일차 : 함수의 이해\n",
      "No.4 - 4일차 : 조건문과 반복문\n"
     ]
    }
   ],
   "source": [
    "lectures = {\n",
    "    \"title\" : \"파이썬 프로그래밍\",\n",
    "    \"subject\" : [\n",
    "        {\"no\": 1, \"date\": \"1일차\",\"title\": \"프로그래밍 언어의 이해\"},\n",
    "        {\"no\": 2, \"date\": \"2일차\",\"title\": \"변수와 연산자\"},\n",
    "        {\"no\": 3, \"date\": \"3일차\",\"title\": \"함수의 이해\"},\n",
    "        {\"no\": 4, \"date\": \"4일차\",\"title\": \"조건문과 반복문\"}\n",
    "    ]\n",
    "}\n",
    "\n",
    "print(lectures[\"title\"])\n",
    "\n",
    "tpl = \"No.{0} - {1} : {2}\"\n",
    "for subject in lectures[\"subject\"]:\n",
    "    print(tpl.format(subject[\"no\"], subject[\"date\"], subject[\"title\"]))"
   ]
  },
  {
   "cell_type": "code",
   "execution_count": null,
   "id": "93f6c723",
   "metadata": {},
   "outputs": [
    {
     "data": {
      "text/plain": [
       "3"
      ]
     },
     "execution_count": 17,
     "metadata": {},
     "output_type": "execute_result"
    }
   ],
   "source": [
    "point = {\"korean\":98,\"math\":77,\"english\":82}\n",
    "len(point)"
   ]
  },
  {
   "cell_type": "code",
   "execution_count": null,
   "id": "d580d7e6",
   "metadata": {},
   "outputs": [
    {
     "name": "stdout",
     "output_type": "stream",
     "text": [
      "{'korean': 98, 'math': 77}\n"
     ]
    }
   ],
   "source": [
    "del(point['english'])\n",
    "print(point)"
   ]
  },
  {
   "cell_type": "code",
   "execution_count": null,
   "id": "f61a1593",
   "metadata": {},
   "outputs": [
    {
     "name": "stdout",
     "output_type": "stream",
     "text": [
      "철수\n"
     ]
    }
   ],
   "source": [
    "dic = {\"name\":\"철수\",\"phone\":\"010-1234-5678\",\"birth\":\"0115\"}\n",
    "print(dic.get(\"name\"))"
   ]
  },
  {
   "cell_type": "code",
   "execution_count": null,
   "id": "8a571670",
   "metadata": {},
   "outputs": [
    {
     "name": "stdout",
     "output_type": "stream",
     "text": [
      "None\n"
     ]
    }
   ],
   "source": [
    "print(dic.get(\"gender\"))"
   ]
  },
  {
   "cell_type": "code",
   "execution_count": null,
   "id": "2e25f907",
   "metadata": {},
   "outputs": [
    {
     "name": "stdout",
     "output_type": "stream",
     "text": [
      "300\n"
     ]
    }
   ],
   "source": [
    "foo = {\"a\":100, \"b\":200}\n",
    "print(foo.get(\"c\",300))"
   ]
  },
  {
   "cell_type": "code",
   "execution_count": null,
   "id": "5572b84f",
   "metadata": {},
   "outputs": [
    {
     "name": "stdout",
     "output_type": "stream",
     "text": [
      "dict_keys(['국어', '수학', '영어'])\n"
     ]
    }
   ],
   "source": [
    "성적표 = {\"국어\":92,\"수학\":88,\"영어\":72}\n",
    "\n",
    "keys = 성적표.keys()\n",
    "print(keys)"
   ]
  },
  {
   "cell_type": "code",
   "execution_count": null,
   "id": "5475a307",
   "metadata": {},
   "outputs": [
    {
     "name": "stdout",
     "output_type": "stream",
     "text": [
      "['국어', '수학', '영어']\n"
     ]
    }
   ],
   "source": [
    "key_list=list(keys)\n",
    "print(key_list)"
   ]
  },
  {
   "cell_type": "code",
   "execution_count": null,
   "id": "f796bc6f",
   "metadata": {},
   "outputs": [
    {
     "data": {
      "text/plain": [
       "['국어', '수학', '영어']"
      ]
     },
     "execution_count": 24,
     "metadata": {},
     "output_type": "execute_result"
    }
   ],
   "source": [
    "keyList = list(성적표.keys())\n",
    "keyList"
   ]
  },
  {
   "cell_type": "code",
   "execution_count": null,
   "id": "49f8c6eb",
   "metadata": {},
   "outputs": [
    {
     "name": "stdout",
     "output_type": "stream",
     "text": [
      "dict_values([92, 88, 72])\n"
     ]
    }
   ],
   "source": [
    "values = 성적표.values()\n",
    "print(values)"
   ]
  },
  {
   "cell_type": "code",
   "execution_count": null,
   "id": "51443fdc",
   "metadata": {},
   "outputs": [
    {
     "name": "stdout",
     "output_type": "stream",
     "text": [
      "[92, 88, 72]\n"
     ]
    }
   ],
   "source": [
    "value_list = list(values)\n",
    "print(value_list)"
   ]
  },
  {
   "cell_type": "code",
   "execution_count": null,
   "id": "6fd25fc6",
   "metadata": {},
   "outputs": [
    {
     "data": {
      "text/plain": [
       "[92, 88, 72]"
      ]
     },
     "execution_count": 27,
     "metadata": {},
     "output_type": "execute_result"
    }
   ],
   "source": [
    "valueList = list(성적표.values())\n",
    "valueList"
   ]
  },
  {
   "cell_type": "code",
   "execution_count": null,
   "id": "8f22ddcd",
   "metadata": {},
   "outputs": [
    {
     "name": "stdout",
     "output_type": "stream",
     "text": [
      "{'국어': 92, '수학': 88, '영어': 72, '물리': 78, '화학': 82}\n"
     ]
    }
   ],
   "source": [
    "성적표1 = {\"국어\":92, \"수학\":88, \"영어\": 72}\n",
    "성적표2 = {\"물리\" : 78, \"화학\": 82}\n",
    "\n",
    "성적표1.update(성적표2)\n",
    "print(성적표1)\n"
   ]
  },
  {
   "cell_type": "code",
   "execution_count": null,
   "id": "af2d8e19",
   "metadata": {},
   "outputs": [
    {
     "name": "stdout",
     "output_type": "stream",
     "text": [
      "{'국어': 92, '수학': 88, '영어': 72, '물리': 78, '화학': 82}\n"
     ]
    }
   ],
   "source": [
    "성적표최종 = 성적표1.copy()\n",
    "print(성적표최종)"
   ]
  },
  {
   "cell_type": "code",
   "execution_count": null,
   "id": "f4668742",
   "metadata": {},
   "outputs": [
    {
     "name": "stdout",
     "output_type": "stream",
     "text": [
      "{'a': 100, 'b': 200}\n"
     ]
    }
   ],
   "source": [
    "bar = {\"a\": 100, \"b\": 200}\n",
    "print(bar)"
   ]
  },
  {
   "cell_type": "code",
   "execution_count": null,
   "id": "76eb1c70",
   "metadata": {},
   "outputs": [
    {
     "name": "stdout",
     "output_type": "stream",
     "text": [
      "{}\n"
     ]
    }
   ],
   "source": [
    "bar.clear()\n",
    "print(bar)"
   ]
  },
  {
   "cell_type": "code",
   "execution_count": null,
   "id": "2d91ae23",
   "metadata": {},
   "outputs": [
    {
     "name": "stdout",
     "output_type": "stream",
     "text": [
      "Hello Python!!!\n",
      "안녕하세요. 파이썬!!!\n",
      "\n"
     ]
    }
   ],
   "source": [
    "# f = open(\"helloworld.txt\",\"w\",encoding='utf-8')\n",
    "# f.write(\"Hello Python!!!\\n\")\n",
    "# f.write(\"안녕하세요. 파이썬!!!\\n\")\n",
    "\n",
    "# f.close()\n",
    "\n",
    "f = open(\"helloworld.txt\",\"r\",encoding='utf-8')\n",
    "data=f.read()\n",
    "print(data)\n",
    "\n",
    "f.close()"
   ]
  },
  {
   "cell_type": "code",
   "execution_count": null,
   "id": "1255e11c",
   "metadata": {},
   "outputs": [
    {
     "name": "stdout",
     "output_type": "stream",
     "text": [
      "파일 저장이 완료되었습니다.\n"
     ]
    }
   ],
   "source": [
    "with open(\"hellopython.txt\", \"w\", encoding='utf-8') as f:\n",
    "    for i in range(0,10):\n",
    "        f.write(\"%d >> \" %i)\n",
    "        f.write(\"Life is too short, \")\n",
    "        f.write(\"you need python\\n\")\n",
    "\n",
    "    print(\"파일 저장이 완료되었습니다.\")"
   ]
  },
  {
   "cell_type": "code",
   "execution_count": null,
   "id": "d2da0cda",
   "metadata": {},
   "outputs": [
    {
     "name": "stdout",
     "output_type": "stream",
     "text": [
      "0 >> Life is too short, you need python\n",
      "1 >> Life is too short, you need python\n",
      "2 >> Life is too short, you need python\n",
      "3 >> Life is too short, you need python\n",
      "4 >> Life is too short, you need python\n",
      "5 >> Life is too short, you need python\n",
      "6 >> Life is too short, you need python\n",
      "7 >> Life is too short, you need python\n",
      "8 >> Life is too short, you need python\n",
      "9 >> Life is too short, you need python\n",
      "\n"
     ]
    }
   ],
   "source": [
    "with open(\"hellopython.txt\", \"r\", encoding='utf-8')as f:\n",
    "    data = f.read()\n",
    "    print(data)"
   ]
  },
  {
   "cell_type": "code",
   "execution_count": null,
   "id": "2dfaf91d",
   "metadata": {},
   "outputs": [
    {
     "name": "stdout",
     "output_type": "stream",
     "text": [
      "['Hello Python!!!\\n', '안녕하세요. 파이썬!!!\\n']\n",
      "------------------------------\n",
      "읽어들인 데이터는 총 2줄 입니다.\n",
      "------------------------------\n",
      "Hello Python!!!\n",
      "안녕하세요. 파이썬!!!\n"
     ]
    }
   ],
   "source": [
    "with open(\"helloworld.txt\", \"r\", encoding='utf-8') as f:\n",
    "    lines = f.readlines()\n",
    "    print(lines)\n",
    "    print(\"-\" * 30)\n",
    "\n",
    "    size = len(lines)\n",
    "    print(\"읽어들인 데이터는 총 %d줄 입니다.\" % size)\n",
    "    print(\"-\" * 30)\n",
    "\n",
    "    for item in lines:\n",
    "        print(item.strip())"
   ]
  },
  {
   "cell_type": "code",
   "execution_count": null,
   "id": "9535fcf9",
   "metadata": {},
   "outputs": [],
   "source": [
    "grade = [\n",
    "    {\"name\": \"철수\",\"kor\":95,\"eng\":88,\"math\":72},\n",
    "    {\"name\": \"영희\",\"kor\":92,\"eng\":90,\"math\":95},\n",
    "    {\"name\": \"철민\",\"kor\":88,\"eng\":76,\"math\":64}\n",
    "]\n",
    "\n",
    "tpl = \"{0},{1},{2},{3}\\n\"\n",
    "\n",
    "with open(\"grade.csv\", \"w\", encoding='euc-kr')as f:\n",
    "    f.write(\"이름,국어,영어,수학\\n\")\n",
    "\n",
    "    for item in grade:\n",
    "        tmp = tpl.format(item[\"name\"], item[\"kor\"],item[\"eng\"],item[\"math\"])\n",
    "        f.write(tmp)"
   ]
  },
  {
   "cell_type": "code",
   "execution_count": null,
   "id": "d547109e",
   "metadata": {},
   "outputs": [],
   "source": [
    "grade_dic = {\n",
    "    '이름' : ['철수','영희','민철','수현','호영'],\n",
    "    '국어' : [98,88,92,63,120],\n",
    "    '영어' : [76,90,70,60,50],\n",
    "    '수학' : [88,62,88,31,76],\n",
    "    '과학' : [64,72,45,70,88]\n",
    "}\n",
    "\n",
    "tpl = \"{0},{1},{2},{3},{4}\\n\"\n",
    "keys = list(grade_dic.keys())\n",
    "p=\",\"\n",
    "title=p.join(keys)\n",
    "\n",
    "with open(\"grade2.csv\", \"w\", encoding='euc-kr')as f:\n",
    "    f.write(title + \"\\n\")\n",
    "\n",
    "    for i in range(0,len(grade_dic['이름'])):\n",
    "        tmp = tpl.format(grade_dic['이름'][i],grade_dic['국어'][i],grade_dic['영어'][i],grade_dic['수학'][i],grade_dic['과학'][i])\n",
    "        f.write(tmp)"
   ]
  },
  {
   "cell_type": "code",
   "execution_count": null,
   "id": "454e92c3",
   "metadata": {},
   "outputs": [
    {
     "name": "stdout",
     "output_type": "stream",
     "text": [
      "서울 일 평균 확진자 수 : 5119.41명\n",
      "서울 일 평균 사망자 수 : 3.40명\n",
      "전국 일 평균 확진자 수 : 26141.33명\n",
      "전국 일 평균 사망자 수 : 19.72명\n",
      "------------------------------\n",
      "작업이 완료되었습니다.\n"
     ]
    }
   ],
   "source": [
    "try:\n",
    "    with open(\"covid19.csv\", 'r', encoding='euc-kr') as f:\n",
    "        csv_list = f.readlines()\n",
    "\n",
    "        # for i in range(5):\n",
    "        #     print(csv_list[i].strip())\n",
    "\n",
    "        size = len(csv_list)-1\n",
    "\n",
    "        seoul_confirm_sum = 0\n",
    "        seoul_death_sum=0\n",
    "        nation_confirm_sum=0\n",
    "        nation_death_sum=0\n",
    "        for i, line in enumerate(csv_list):\n",
    "            if i==0:\n",
    "                continue\n",
    "            k= line.strip().split(\",\")\n",
    "\n",
    "            if k[1].isnumeric():    seoul_confirm_sum+=int(k[1])\n",
    "            if k[2].isnumeric():    seoul_death_sum+=int(k[2])\n",
    "            if k[3].isnumeric():    nation_confirm_sum+=int(k[3])\n",
    "            if k[4].isnumeric():    nation_death_sum+=int(k[4])\n",
    "\n",
    "    print(\"서울 일 평균 확진자 수 : %.2f명\" %(seoul_confirm_sum/size))\n",
    "    print(\"서울 일 평균 사망자 수 : %.2f명\" %(seoul_death_sum/size))\n",
    "    print(\"전국 일 평균 확진자 수 : %.2f명\" %(nation_confirm_sum/size))\n",
    "    print(\"전국 일 평균 사망자 수 : %.2f명\" %(nation_death_sum/size))\n",
    "\n",
    "except Exception as e:\n",
    "    print(\"csv 파일 처리 실패.\", e)\n",
    "finally:\n",
    "    print(\"-\" * 30)\n",
    "    print(\"작업이 완료되었습니다.\")"
   ]
  },
  {
   "cell_type": "code",
   "execution_count": null,
   "id": "3b510dfd",
   "metadata": {},
   "outputs": [
    {
     "name": "stdout",
     "output_type": "stream",
     "text": [
      "speed: 10, hp:100, attack:20, defense: 5\n"
     ]
    }
   ],
   "source": [
    "class Dragoon:\n",
    "    speed=None\n",
    "    hp=None\n",
    "    attack=None\n",
    "    defense=None\n",
    "\n",
    "dg1 = Dragoon()\n",
    "\n",
    "dg1.speed=10\n",
    "dg1.hp=100\n",
    "dg1.attack=20\n",
    "dg1.defense=5\n",
    "\n",
    "tpl = \"speed: {0}, hp:{1}, attack:{2}, defense: {3}\"\n",
    "print(tpl.format(dg1.speed,dg1.hp,dg1.attack,dg1.defense))"
   ]
  },
  {
   "cell_type": "code",
   "execution_count": null,
   "id": "a43aac2f",
   "metadata": {},
   "outputs": [
    {
     "name": "stdout",
     "output_type": "stream",
     "text": [
      "speed:11, hp:100, attack:22, defense:6\n"
     ]
    }
   ],
   "source": [
    "dg1.speed+=1\n",
    "dg1.hp+=10\n",
    "dg1.attack+=2\n",
    "dg1.defense+=1\n",
    "dg1.hp-=10\n",
    "\n",
    "tpl = \"speed:{0}, hp:{1}, attack:{2}, defense:{3}\"\n",
    "print(tpl.format(dg1.speed,dg1.hp,dg1.attack,dg1.defense))"
   ]
  },
  {
   "cell_type": "code",
   "execution_count": null,
   "id": "01ec3b65",
   "metadata": {},
   "outputs": [
    {
     "name": "stdout",
     "output_type": "stream",
     "text": [
      "speed: 11,hp:100,attack:22,defense:6\n",
      "speed: 12,hp:120,attack:22,defense:7\n"
     ]
    }
   ],
   "source": [
    "dg2 = Dragoon()\n",
    "dg2.speed=12\n",
    "dg2.hp=120\n",
    "dg2.attack=22\n",
    "dg2.defense=7\n",
    "\n",
    "tpl = \"speed: {0},hp:{1},attack:{2},defense:{3}\"\n",
    "print(tpl.format(dg1.speed,dg1.hp,dg1.attack,dg1.defense))\n",
    "print(tpl.format(dg2.speed,dg2.hp,dg2.attack,dg2.defense))"
   ]
  },
  {
   "cell_type": "code",
   "execution_count": null,
   "id": "1aa686d1",
   "metadata": {},
   "outputs": [
    {
     "name": "stdout",
     "output_type": "stream",
     "text": [
      "좌표 (10, 10)로 이동합니다.\n",
      "광물을 채집합니다.(+10)\n",
      "광물을 채집합니다.(+10)\n",
      "광물을 채집합니다.(+10)\n",
      "가스를 채집합니다.(+5)\n",
      "가스를 채집합니다.(+5)\n",
      "채취된 광물: 30, 채취된 가스: 10\n"
     ]
    }
   ],
   "source": [
    "class Probe:\n",
    "    def move(self,x,y):\n",
    "        print(\"좌표 ({0}, {1})로 이동합니다.\".format(x,y))\n",
    "    def mineral(self):\n",
    "        print(\"광물을 채집합니다.(+10)\")\n",
    "        return 10\n",
    "    def gas(self):\n",
    "        print(\"가스를 채집합니다.(+5)\")\n",
    "        return 5\n",
    "\n",
    "probe1 = Probe()\n",
    "probe1.move(10,10)\n",
    "\n",
    "my_mineral = 0\n",
    "my_mineral +=probe1.mineral()\n",
    "my_mineral +=probe1.mineral()\n",
    "my_mineral +=probe1.mineral()\n",
    "\n",
    "my_gas =0\n",
    "my_gas += probe1.gas()\n",
    "my_gas += probe1.gas()\n",
    "\n",
    "print(\"채취된 광물: {0}, 채취된 가스: {1}\".format(my_mineral,my_gas))\n",
    "\n",
    "\n"
   ]
  },
  {
   "cell_type": "code",
   "execution_count": null,
   "id": "d6b18186",
   "metadata": {},
   "outputs": [
    {
     "name": "stdout",
     "output_type": "stream",
     "text": [
      "상태확인 >>> hp: 100, dps: 20\n",
      "30의 공격을 받아 hp가 70만큼 감솧바니다.\n",
      "상태확인 >>> hp: 70, dps: 20\n",
      "레벨업을 하여 체력(+10), 공격력(+2)이 증가합니다.\n",
      "상태확인 >>> hp: 80, dps: 22\n"
     ]
    }
   ],
   "source": [
    "class Zealot:\n",
    "    hp = None\n",
    "    dps = None\n",
    "\n",
    "    def state(self):\n",
    "        print(\"상태확인 >>> hp: {0}, dps: {1}\".format(self.hp, self.dps))\n",
    "\n",
    "    def level_up(self):\n",
    "        self.hp +=10\n",
    "        self.dps +=2\n",
    "        print(\"레벨업을 하여 체력(+10), 공격력(+2)이 증가합니다.\")\n",
    "\n",
    "    def attacked(self, enemy_attack):\n",
    "        self.hp -= enemy_attack\n",
    "        print(\"{0}의 공격을 받아 hp가 {1}만큼 감솧바니다.\".format(enemy_attack,self.hp))\n",
    "\n",
    "zealot1 = Zealot()\n",
    "zealot1.hp = 100\n",
    "zealot1.dps = 20\n",
    "\n",
    "zealot1.state()\n",
    "zealot1.attacked(30)\n",
    "zealot1.state()\n",
    "zealot1.level_up()\n",
    "zealot1.state()\n"
   ]
  },
  {
   "cell_type": "code",
   "execution_count": null,
   "id": "6370777b",
   "metadata": {},
   "outputs": [
    {
     "name": "stdout",
     "output_type": "stream",
     "text": [
      "[마린1] You wanna piece of me, boy?\n",
      "[마린2] You wanna piece of me, boy?\n",
      "[마린1] hp: 100\n",
      "[마린2] hp: 100\n",
      "[마린1] 적의 공격을 받아 hp가 30 감소합니다.\n",
      "[마린2] 적의 공격을 받아 hp가 20 감소합니다.\n",
      "[마린1] hp: 70\n",
      "[마린2] hp: 80\n",
      "[마린1] 레벨업을 하여 체력(+5)이 증가합니다.\n",
      "[마린2] 레벨업을 하여 체력(+5)이 증가합니다.\n",
      "[마린1] hp: 75\n",
      "[마린2] hp: 85\n"
     ]
    }
   ],
   "source": [
    "class Marine:\n",
    "    name=None\n",
    "    hp=None\n",
    "\n",
    "    def __init__(self,name,hp):\n",
    "        self.name = name\n",
    "        self.hp = hp\n",
    "        print(\"[{0}] You wanna piece of me, boy?\".format(self.name))\n",
    "\n",
    "    def state(self):\n",
    "        print(\"[{0}] hp: {1}\".format(self.name, self.hp))\n",
    "\n",
    "    def level_up(self):\n",
    "        self.hp +=5\n",
    "        print(\"[{0}] 레벨업을 하여 체력(+5)이 증가합니다.\".format(self.name))\n",
    "    \n",
    "    def attacked(self,enemy_attack):\n",
    "        self.hp-=enemy_attack\n",
    "        print(\"[{0}] 적의 공격을 받아 hp가 {1} 감소합니다.\".format(self.name,enemy_attack))\n",
    "\n",
    "m1=Marine(\"마린1\",100)\n",
    "m2=Marine(\"마린2\",100)\n",
    "\n",
    "m1.state()\n",
    "m2.state()\n",
    "\n",
    "m1.attacked(30)\n",
    "m2.attacked(20)\n",
    "\n",
    "m1.state()\n",
    "m2.state()\n",
    "\n",
    "m1.level_up()\n",
    "m2.level_up()\n",
    "\n",
    "m1.state()\n",
    "m2.state()"
   ]
  },
  {
   "cell_type": "code",
   "execution_count": null,
   "id": "efe065dc",
   "metadata": {},
   "outputs": [
    {
     "name": "stdout",
     "output_type": "stream",
     "text": [
      "[벌처1] Alright! Bring it on!\n",
      "[벌처2] Alright! Bring it on!\n",
      "[벌처1] hp: 100, dps:1\n",
      "[벌처2] hp: 100, dps:20\n",
      "[벌처1] 적의 공격을 받아 hp가 30 감소합니다.\n",
      "[벌처2] 적의 공격을 받아 hp가 20 감소합니다.\n",
      "[벌처1] hp: 70, dps:1\n",
      "[벌처2] hp: 80, dps:20\n",
      "[벌처1] 레벨업을 하여 체력(+5), 공격력(+1)이 증가합니다.\n",
      "[벌처2] 레벨업을 하여 체력(+5), 공격력(+1)이 증가합니다.\n",
      "[벌처1] hp: 75, dps:2\n",
      "[벌처2] hp: 85, dps:21\n",
      "[벌처1] 적1에게 초당 2만큼의 피해를 주는 공격을 가합니다.\n",
      "[벌처2] 적2에게 초당 21만큼의 피해를 주는 공격을 가합니다.\n"
     ]
    }
   ],
   "source": [
    "class Vulture:\n",
    "    __name = None\n",
    "    __hp = None\n",
    "    __dps = None\n",
    "\n",
    "    @property\n",
    "    def name(self):\n",
    "        return self.__name\n",
    "    \n",
    "    @name.setter\n",
    "    def name(self, value):\n",
    "        self.__name = value\n",
    "\n",
    "    @property\n",
    "    def hp(self):\n",
    "        return self.__hp\n",
    "    \n",
    "    @hp.setter\n",
    "    def hp(self, value):\n",
    "        if value < 1:\n",
    "            value = 1\n",
    "        self.__hp = value\n",
    "\n",
    "    @property\n",
    "    def dps(self):\n",
    "        return self.__dps\n",
    "\n",
    "    @dps.setter\n",
    "    def dps(self, value):\n",
    "        if value < 1:\n",
    "            value = 1\n",
    "        self.__dps = value\n",
    "\n",
    "    def __init__(self, name=None, hp=0, dps=0):\n",
    "        self.name = name\n",
    "        self.hp = hp\n",
    "        self.dps = dps\n",
    "        print(\"[{0}] Alright! Bring it on!\".format(self.name))\n",
    "    \n",
    "    def state(self):\n",
    "        print(\"[{0}] hp: {1}, dps:{2}\".format(self.name, self.hp, self.dps))\n",
    "\n",
    "    def level_up(self):\n",
    "        self.hp +=5\n",
    "        self.dps +=1\n",
    "        print(\"[{0}] 레벨업을 하여 체력(+5), 공격력(+1)이 증가합니다.\".format(self.name))\n",
    "\n",
    "    def attacked(self, enemy_attack):\n",
    "        self.hp -=enemy_attack\n",
    "        print(\"[{0}] 적의 공격을 받아 hp가 {1} 감소합니다.\".format(self.name, enemy_attack))\n",
    "\n",
    "    def attack(self,target):\n",
    "        print(\"[{0}] {1}에게 초당 {2}만큼의 피해를 주는 공격을 가합니다.\".format(self.name,target,self.dps))\n",
    "\n",
    "v1 = Vulture(\"벌처1\", 100)\n",
    "v2 = Vulture(\"벌처2\", 100, 20)\n",
    "\n",
    "v1.state()\n",
    "v2.state()\n",
    "\n",
    "v1.attacked(30)\n",
    "v2.attacked(20)\n",
    "\n",
    "v1.state()\n",
    "v2.state()\n",
    "\n",
    "v1.level_up()\n",
    "v2.level_up()\n",
    "\n",
    "v1.state()\n",
    "v2.state()\n",
    "\n",
    "v1.attack(\"적1\")\n",
    "v2.attack(\"적2\")"
   ]
  },
  {
   "cell_type": "code",
   "execution_count": null,
   "id": "b5e5c311",
   "metadata": {},
   "outputs": [
    {
     "name": "stdout",
     "output_type": "stream",
     "text": [
      "[마린1] HP: 45\n",
      "[마린1] 총을 쏘아 100의 데미지를 입혔습니다.\n"
     ]
    }
   ],
   "source": [
    "class Terran:\n",
    "    name = None\n",
    "    hp = None\n",
    "\n",
    "    def __init__(self, name, hp):\n",
    "        self.name = name\n",
    "        self.hp = hp\n",
    "    \n",
    "    def info(self):\n",
    "        return \"[%s] HP: %d\" % (self.name,self.hp)\n",
    "    \n",
    "class Marine(Terran):\n",
    "    def shoot(self, attack):\n",
    "        return \"[%s] 총을 쏘아 %d의 데미지를 입혔습니다.\" %(self.name, attack)\n",
    "    \n",
    "m = Marine('마린1', 45)\n",
    "print(m.info())\n",
    "print(m.shoot(100))\n"
   ]
  },
  {
   "cell_type": "code",
   "execution_count": null,
   "id": "41edc83d",
   "metadata": {},
   "outputs": [
    {
     "name": "stdout",
     "output_type": "stream",
     "text": [
      "[메딕1] HP: 30, MANA: 100\n",
      "[메딕1] 마린1의 체력을 회복시킵니다. (mana: -5)\n"
     ]
    }
   ],
   "source": [
    "class Medic(Terran):\n",
    "    mana = None\n",
    "\n",
    "    def __init__(self,name,hp,mana):\n",
    "        super().__init__(name,hp)\n",
    "\n",
    "        self.mana = mana\n",
    "\n",
    "    def info_ex(self):\n",
    "        info_msg = super().info()\n",
    "        info_msg += \", MANA: %d\" %self.mana\n",
    "        return info_msg\n",
    "    \n",
    "    def heel(self, target):\n",
    "        self.mana -=5\n",
    "        return \"[%s] %s의 체력을 회복시킵니다. (mana: -5)\" % (self.name, target)\n",
    "    \n",
    "md = Medic('메딕1', 30, 100)\n",
    "print(md.info_ex())\n",
    "print(md.heel('마린1'))"
   ]
  },
  {
   "cell_type": "code",
   "execution_count": 39,
   "id": "4a1cab0c",
   "metadata": {},
   "outputs": [
    {
     "name": "stdout",
     "output_type": "stream",
     "text": [
      "[탱크1] HP: 150, 상태: 아머드모드\n",
      "[탱크1] HP: 150, 상태: 시즈모드\n"
     ]
    }
   ],
   "source": [
    "class SiegeTank(Terran):\n",
    "    siege_mode = None\n",
    "\n",
    "    def __init__(self, name, hp=150, siege_mode=False):\n",
    "        super().__init__(name,hp)\n",
    "        self.siege_mode = siege_mode\n",
    "\n",
    "    def set_siege(self,on):\n",
    "        self.siege_mode = bool(on)\n",
    "\n",
    "    def info(self):\n",
    "        base = super().info()\n",
    "\n",
    "        if self.siege_mode:\n",
    "            mode = '시즈모드'\n",
    "        else:\n",
    "            mode = '아머드모드'\n",
    "\n",
    "        return base + \", 상태: \" +mode\n",
    "\n",
    "t = SiegeTank('탱크1')\n",
    "print(t.info())\n",
    "t.set_siege(True)\n",
    "print(t.info())"
   ]
  },
  {
   "cell_type": "code",
   "execution_count": null,
   "id": "3d253cfc",
   "metadata": {},
   "outputs": [],
   "source": []
  }
 ],
 "metadata": {
  "kernelspec": {
   "display_name": "Python 3",
   "language": "python",
   "name": "python3"
  },
  "language_info": {
   "codemirror_mode": {
    "name": "ipython",
    "version": 3
   },
   "file_extension": ".py",
   "mimetype": "text/x-python",
   "name": "python",
   "nbconvert_exporter": "python",
   "pygments_lexer": "ipython3",
   "version": "3.13.9"
  }
 },
 "nbformat": 4,
 "nbformat_minor": 5
}
