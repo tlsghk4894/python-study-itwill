{
 "cells": [
  {
   "cell_type": "markdown",
   "id": "dfa56f99",
   "metadata": {},
   "source": [
    "## 07-파이썬 기본 라이브러리\n",
    "\n",
    "모듈/패키지/라이브러리"
   ]
  },
  {
   "cell_type": "code",
   "execution_count": 1,
   "id": "bdcb2c97",
   "metadata": {},
   "outputs": [
    {
     "name": "stdout",
     "output_type": "stream",
     "text": [
      "7\n",
      "-1\n"
     ]
    }
   ],
   "source": [
    "#모듈 사용 실습\n",
    "\n",
    "from mylibrary import MyMod1\n",
    "print(MyMod1.plus(3,4))\n",
    "print(MyMod1.minus(3,4))"
   ]
  },
  {
   "cell_type": "code",
   "execution_count": 2,
   "id": "1105b0c9",
   "metadata": {},
   "outputs": [
    {
     "name": "stdout",
     "output_type": "stream",
     "text": [
      "------- 생성자가 실행되었습니다. -------\n",
      "이름 : 파이썬학생, 이메일 : woduq4894@navr.com\n"
     ]
    }
   ],
   "source": [
    "from mylibrary import MyMod2\n",
    "\n",
    "mem=MyMod2.Member('파이썬학생','woduq4894@navr.com')\n",
    "mem.view_info()"
   ]
  },
  {
   "cell_type": "code",
   "execution_count": 4,
   "id": "bd9dbced",
   "metadata": {},
   "outputs": [
    {
     "name": "stdout",
     "output_type": "stream",
     "text": [
      "45\n",
      "15\n"
     ]
    }
   ],
   "source": [
    "from mylibrary import MyMod3\n",
    "\n",
    "print(MyMod3.my_calc.plus(30,15))\n",
    "print(MyMod3.my_calc.minus(30,15))"
   ]
  },
  {
   "cell_type": "code",
   "execution_count": 5,
   "id": "e74e99e6",
   "metadata": {},
   "outputs": [
    {
     "name": "stdout",
     "output_type": "stream",
     "text": [
      "7\n",
      "-1\n"
     ]
    }
   ],
   "source": [
    "from mylibrary import MyMod1 as hello\n",
    "\n",
    "print(hello.plus(3,4))\n",
    "print(hello.minus(3,4))"
   ]
  },
  {
   "cell_type": "code",
   "execution_count": 6,
   "id": "93c9647b",
   "metadata": {},
   "outputs": [
    {
     "name": "stdout",
     "output_type": "stream",
     "text": [
      "------- 생성자가 실행되었습니다. -------\n",
      "이름 : 파이썬학생, 이메일 : woduq4894@naver.com\n"
     ]
    }
   ],
   "source": [
    "from mylibrary import MyMod2 as User\n",
    "\n",
    "mem = User.Member('파이썬학생','woduq4894@naver.com')\n",
    "mem.view_info()"
   ]
  },
  {
   "cell_type": "code",
   "execution_count": 7,
   "id": "78df3a06",
   "metadata": {},
   "outputs": [
    {
     "name": "stdout",
     "output_type": "stream",
     "text": [
      "45\n",
      "15\n"
     ]
    }
   ],
   "source": [
    "from mylibrary import MyMod3 as MyObject\n",
    "\n",
    "print(MyObject.my_calc.plus(30,15))\n",
    "print(MyObject.my_calc.minus(30,15))"
   ]
  },
  {
   "cell_type": "code",
   "execution_count": 9,
   "id": "f3dd147b",
   "metadata": {},
   "outputs": [
    {
     "name": "stdout",
     "output_type": "stream",
     "text": [
      "7\n"
     ]
    }
   ],
   "source": [
    "from mylibrary.MyMod1 import plus\n",
    "\n",
    "print(plus(3,4))"
   ]
  },
  {
   "cell_type": "code",
   "execution_count": 10,
   "id": "0e072b40",
   "metadata": {},
   "outputs": [
    {
     "name": "stdout",
     "output_type": "stream",
     "text": [
      "------- 생성자가 실행되었습니다. -------\n",
      "이름 : 파이썬학생, 이메일 : woduq4894@naver.com\n"
     ]
    }
   ],
   "source": [
    "from mylibrary.MyMod2 import Member\n",
    "\n",
    "mem = Member('파이썬학생','woduq4894@naver.com')\n",
    "mem.view_info()"
   ]
  },
  {
   "cell_type": "code",
   "execution_count": 11,
   "id": "419aec7b",
   "metadata": {},
   "outputs": [
    {
     "name": "stdout",
     "output_type": "stream",
     "text": [
      "45\n",
      "15\n"
     ]
    }
   ],
   "source": [
    "from mylibrary.MyMod3 import my_calc\n",
    "print(my_calc.plus(30,15))\n",
    "print(my_calc.minus(30,15))"
   ]
  },
  {
   "cell_type": "code",
   "execution_count": 12,
   "id": "9f32b4a0",
   "metadata": {},
   "outputs": [
    {
     "name": "stdout",
     "output_type": "stream",
     "text": [
      "45\n",
      "------- 생성자가 실행되었습니다. -------\n",
      "이름 : 김재엽, 이메일 : woduq4894@naver.com\n",
      "300\n",
      "200\n"
     ]
    }
   ],
   "source": [
    "from mylibrary.MyMod1 import plus as 더하기\n",
    "from mylibrary.MyMod2 import Member as 회원클래스\n",
    "from mylibrary.MyMod3 import my_calc as 계산기\n",
    "\n",
    "print(더하기(30,15))\n",
    "\n",
    "회원 = 회원클래스(\"김재엽\",\"woduq4894@naver.com\")\n",
    "회원.view_info()\n",
    "\n",
    "print(계산기.plus(100,200))\n",
    "print(계산기.minus(500,300))"
   ]
  },
  {
   "cell_type": "markdown",
   "id": "cb4e92c9",
   "metadata": {},
   "source": [
    "### 3. 파일/폴더 관련 기능\n",
    "\n",
    "파이썬 내장 모듈 소개"
   ]
  },
  {
   "cell_type": "code",
   "execution_count": 13,
   "id": "66636e90",
   "metadata": {},
   "outputs": [
    {
     "name": "stdout",
     "output_type": "stream",
     "text": [
      "win32\n"
     ]
    }
   ],
   "source": [
    "import sys\n",
    "import os\n",
    "\n",
    "print(sys.platform)"
   ]
  },
  {
   "cell_type": "code",
   "execution_count": 14,
   "id": "002f1d34",
   "metadata": {},
   "outputs": [],
   "source": [
    "ls = os.listdir('./')"
   ]
  },
  {
   "cell_type": "code",
   "execution_count": 15,
   "id": "38b968dd",
   "metadata": {},
   "outputs": [
    {
     "name": "stdout",
     "output_type": "stream",
     "text": [
      "['.git', '.gitignore', '01-파이썬시작하기.ipynb', '07-파이썬기본라이브러리.ipynb', '251013.ipynb', 'covid19.csv', 'grade.csv', 'grade2.csv', 'hellopython.txt', 'helloworld.txt', 'my.md', 'mylibrary', 'README.md', 'test.ipynb', '강의자료']\n"
     ]
    }
   ],
   "source": [
    "print(ls)"
   ]
  },
  {
   "cell_type": "code",
   "execution_count": 16,
   "id": "010cd8b2",
   "metadata": {},
   "outputs": [],
   "source": [
    "k = os.path.exists('./hello')"
   ]
  },
  {
   "cell_type": "code",
   "execution_count": 17,
   "id": "6f3053ff",
   "metadata": {},
   "outputs": [
    {
     "name": "stdout",
     "output_type": "stream",
     "text": [
      "False\n"
     ]
    }
   ],
   "source": [
    "print(k)"
   ]
  },
  {
   "cell_type": "code",
   "execution_count": 18,
   "id": "a7a212d6",
   "metadata": {},
   "outputs": [
    {
     "name": "stdout",
     "output_type": "stream",
     "text": [
      "c:\\Users\\itwill\\Desktop\\집\\hello\n"
     ]
    }
   ],
   "source": [
    "print(os.path.abspath('./hello'))"
   ]
  },
  {
   "cell_type": "code",
   "execution_count": 22,
   "id": "eecb0289",
   "metadata": {},
   "outputs": [
    {
     "name": "stdout",
     "output_type": "stream",
     "text": [
      "hello 폴더를 삭제했습니다.\n"
     ]
    }
   ],
   "source": [
    "if os.path.exists('./hello') == False:\n",
    "    os.mkdir('./hello')\n",
    "    print('hello 폴더를 생성했습니다.')\n",
    "else:\n",
    "    os.rmdir('./hello')\n",
    "    print('hello 폴더를 삭제했습니다.')"
   ]
  },
  {
   "cell_type": "code",
   "execution_count": null,
   "id": "0431d5b9",
   "metadata": {},
   "outputs": [
    {
     "name": "stdout",
     "output_type": "stream",
     "text": [
      "['01-파이썬시작하기.ipynb', '07-파이썬기본라이브러리.ipynb', '251013.ipynb', 'covid19.csv', 'grade.csv', 'grade2.csv', 'hellopython.txt', 'helloworld.txt', 'my.md', 'mylibrary', 'README.md', 'test.ipynb', '강의자료']\n"
     ]
    }
   ],
   "source": [
    "import glob as gl\n",
    "\n",
    "#현재 폴더의 모든 하위 요소 조회하기\n",
    "ls = gl.glob('*')\n",
    "print(ls)"
   ]
  },
  {
   "cell_type": "code",
   "execution_count": null,
   "id": "882c5cec",
   "metadata": {},
   "outputs": [
    {
     "name": "stdout",
     "output_type": "stream",
     "text": [
      "['01-파이썬시작하기.ipynb', '07-파이썬기본라이브러리.ipynb', '251013.ipynb', 'test.ipynb']\n"
     ]
    }
   ],
   "source": [
    "#현재 폴더에서 .ipynb로 끝나는 모든 요소들 조회\n",
    "ls = gl.glob('*.ipynb')\n",
    "print(ls)"
   ]
  },
  {
   "cell_type": "code",
   "execution_count": null,
   "id": "79c5b48c",
   "metadata": {},
   "outputs": [
    {
     "name": "stdout",
     "output_type": "stream",
     "text": [
      "['251013.ipynb', 'grade2.csv']\n"
     ]
    }
   ],
   "source": [
    "# 현재 폴더에서 \"2\"를 포함하는 파일 조회\n",
    "ls = gl.glob('*2*')\n",
    "print(ls)"
   ]
  },
  {
   "cell_type": "code",
   "execution_count": 31,
   "id": "68286159",
   "metadata": {},
   "outputs": [
    {
     "name": "stdout",
     "output_type": "stream",
     "text": [
      "python 폴더와 하위 폴더들을 생성했습니다.\n"
     ]
    }
   ],
   "source": [
    "import shutil #파일 , 폴더 관련 작업에 확장된 기능을 제공\n",
    "\n",
    "#현재 작업 위치에 python 폴더가 없으면?\n",
    "if os.path.exists('python') == False:\n",
    "    os.makedirs('python/test/hello/world', exist_ok=True)\n",
    "    print('python 폴더와 하위 폴더들을 생성했습니다.')\n",
    "\n",
    "else:\n",
    "    #비어있지 않은 폴더도 강제 삭제-> 존재하지 않으면 에러\n",
    "    shutil.rmtree('python')\n",
    "    print('python 폴더가 삭제되었습니다.')"
   ]
  },
  {
   "cell_type": "code",
   "execution_count": null,
   "id": "44ba696a",
   "metadata": {},
   "outputs": [
    {
     "name": "stdout",
     "output_type": "stream",
     "text": [
      "python 폴더가 ../created 폴더로 이동되었습니다.\n"
     ]
    }
   ],
   "source": [
    "#폴더의 이동\n",
    "if os.path.exists('python'):\n",
    "    shutil.move('python','../created')\n",
    "    print('python 폴더가 ../created 폴더로 이동되었습니다.')"
   ]
  },
  {
   "cell_type": "code",
   "execution_count": 33,
   "id": "f1b4daeb",
   "metadata": {},
   "outputs": [
    {
     "name": "stdout",
     "output_type": "stream",
     "text": [
      "python 폴더가 copy로 복사되었습니다.\n"
     ]
    }
   ],
   "source": [
    "#폴더의 복사\n",
    "if os.path.exists('../created'):\n",
    "    shutil.copytree('../created','./copy')\n",
    "    print('python 폴더가 copy로 복사되었습니다.')"
   ]
  },
  {
   "cell_type": "code",
   "execution_count": null,
   "id": "f4bbaa6b",
   "metadata": {},
   "outputs": [
    {
     "name": "stdout",
     "output_type": "stream",
     "text": [
      "hello.txt가 삭제되었습니다.\n",
      "world.txt가 삭제되었습니다.\n"
     ]
    }
   ],
   "source": [
    "#os모듈 내의 path 객체가 갖는 exists() 함수 사용\n",
    "\n",
    "if os.path.exists('hello.txt') == False:\n",
    "    with open(\"hello.txt\", \"w\", encoding=\"utf-8\")as f:\n",
    "        f.write(\"Life is too short, you need python\")\n",
    "        print('hello.txt 파일을 생성했습니다.')\n",
    "\n",
    "    shutil.copy('hello.txt','world.txt')\n",
    "    print('hello.txt가 world.txt로 복사되었습니다.')\n",
    "\n",
    "else:\n",
    "    os.remove('hello.txt')\n",
    "    print('hello.txt가 삭제되었습니다.')\n",
    "    os.remove('world.txt')\n",
    "    print('world.txt가 삭제되었습니다.')"
   ]
  },
  {
   "cell_type": "code",
   "execution_count": null,
   "id": "f521f0a2",
   "metadata": {},
   "outputs": [],
   "source": []
  }
 ],
 "metadata": {
  "kernelspec": {
   "display_name": "Python 3",
   "language": "python",
   "name": "python3"
  },
  "language_info": {
   "codemirror_mode": {
    "name": "ipython",
    "version": 3
   },
   "file_extension": ".py",
   "mimetype": "text/x-python",
   "name": "python",
   "nbconvert_exporter": "python",
   "pygments_lexer": "ipython3",
   "version": "3.13.9"
  }
 },
 "nbformat": 4,
 "nbformat_minor": 5
}
