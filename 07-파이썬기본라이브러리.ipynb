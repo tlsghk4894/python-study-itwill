{
 "cells": [
  {
   "cell_type": "markdown",
   "id": "dfa56f99",
   "metadata": {},
   "source": [
    "## 07-파이썬 기본 라이브러리\n",
    "\n",
    "모듈/패키지/라이브러리"
   ]
  },
  {
   "cell_type": "code",
   "execution_count": 1,
   "id": "bdcb2c97",
   "metadata": {},
   "outputs": [
    {
     "name": "stdout",
     "output_type": "stream",
     "text": [
      "7\n",
      "-1\n"
     ]
    }
   ],
   "source": [
    "#모듈 사용 실습\n",
    "\n",
    "from mylibrary import MyMod1\n",
    "print(MyMod1.plus(3,4))\n",
    "print(MyMod1.minus(3,4))"
   ]
  },
  {
   "cell_type": "code",
   "execution_count": 2,
   "id": "1105b0c9",
   "metadata": {},
   "outputs": [
    {
     "name": "stdout",
     "output_type": "stream",
     "text": [
      "------- 생성자가 실행되었습니다. -------\n",
      "이름 : 파이썬학생, 이메일 : woduq4894@navr.com\n"
     ]
    }
   ],
   "source": [
    "from mylibrary import MyMod2\n",
    "\n",
    "mem=MyMod2.Member('파이썬학생','woduq4894@navr.com')\n",
    "mem.view_info()"
   ]
  },
  {
   "cell_type": "code",
   "execution_count": 4,
   "id": "bd9dbced",
   "metadata": {},
   "outputs": [
    {
     "name": "stdout",
     "output_type": "stream",
     "text": [
      "45\n",
      "15\n"
     ]
    }
   ],
   "source": [
    "from mylibrary import MyMod3\n",
    "\n",
    "print(MyMod3.my_calc.plus(30,15))\n",
    "print(MyMod3.my_calc.minus(30,15))"
   ]
  },
  {
   "cell_type": "code",
   "execution_count": 5,
   "id": "e74e99e6",
   "metadata": {},
   "outputs": [
    {
     "name": "stdout",
     "output_type": "stream",
     "text": [
      "7\n",
      "-1\n"
     ]
    }
   ],
   "source": [
    "from mylibrary import MyMod1 as hello\n",
    "\n",
    "print(hello.plus(3,4))\n",
    "print(hello.minus(3,4))"
   ]
  },
  {
   "cell_type": "code",
   "execution_count": 6,
   "id": "93c9647b",
   "metadata": {},
   "outputs": [
    {
     "name": "stdout",
     "output_type": "stream",
     "text": [
      "------- 생성자가 실행되었습니다. -------\n",
      "이름 : 파이썬학생, 이메일 : woduq4894@naver.com\n"
     ]
    }
   ],
   "source": [
    "from mylibrary import MyMod2 as User\n",
    "\n",
    "mem = User.Member('파이썬학생','woduq4894@naver.com')\n",
    "mem.view_info()"
   ]
  },
  {
   "cell_type": "code",
   "execution_count": 7,
   "id": "78df3a06",
   "metadata": {},
   "outputs": [
    {
     "name": "stdout",
     "output_type": "stream",
     "text": [
      "45\n",
      "15\n"
     ]
    }
   ],
   "source": [
    "from mylibrary import MyMod3 as MyObject\n",
    "\n",
    "print(MyObject.my_calc.plus(30,15))\n",
    "print(MyObject.my_calc.minus(30,15))"
   ]
  },
  {
   "cell_type": "code",
   "execution_count": 9,
   "id": "f3dd147b",
   "metadata": {},
   "outputs": [
    {
     "name": "stdout",
     "output_type": "stream",
     "text": [
      "7\n"
     ]
    }
   ],
   "source": [
    "from mylibrary.MyMod1 import plus\n",
    "\n",
    "print(plus(3,4))"
   ]
  },
  {
   "cell_type": "code",
   "execution_count": 10,
   "id": "0e072b40",
   "metadata": {},
   "outputs": [
    {
     "name": "stdout",
     "output_type": "stream",
     "text": [
      "------- 생성자가 실행되었습니다. -------\n",
      "이름 : 파이썬학생, 이메일 : woduq4894@naver.com\n"
     ]
    }
   ],
   "source": [
    "from mylibrary.MyMod2 import Member\n",
    "\n",
    "mem = Member('파이썬학생','woduq4894@naver.com')\n",
    "mem.view_info()"
   ]
  },
  {
   "cell_type": "code",
   "execution_count": 11,
   "id": "419aec7b",
   "metadata": {},
   "outputs": [
    {
     "name": "stdout",
     "output_type": "stream",
     "text": [
      "45\n",
      "15\n"
     ]
    }
   ],
   "source": [
    "from mylibrary.MyMod3 import my_calc\n",
    "print(my_calc.plus(30,15))\n",
    "print(my_calc.minus(30,15))"
   ]
  },
  {
   "cell_type": "code",
   "execution_count": 12,
   "id": "9f32b4a0",
   "metadata": {},
   "outputs": [
    {
     "name": "stdout",
     "output_type": "stream",
     "text": [
      "45\n",
      "------- 생성자가 실행되었습니다. -------\n",
      "이름 : 김재엽, 이메일 : woduq4894@naver.com\n",
      "300\n",
      "200\n"
     ]
    }
   ],
   "source": [
    "from mylibrary.MyMod1 import plus as 더하기\n",
    "from mylibrary.MyMod2 import Member as 회원클래스\n",
    "from mylibrary.MyMod3 import my_calc as 계산기\n",
    "\n",
    "print(더하기(30,15))\n",
    "\n",
    "회원 = 회원클래스(\"김재엽\",\"woduq4894@naver.com\")\n",
    "회원.view_info()\n",
    "\n",
    "print(계산기.plus(100,200))\n",
    "print(계산기.minus(500,300))"
   ]
  },
  {
   "cell_type": "markdown",
   "id": "cb4e92c9",
   "metadata": {},
   "source": [
    "### 3. 파일/폴더 관련 기능\n",
    "\n",
    "파이썬 내장 모듈 소개"
   ]
  },
  {
   "cell_type": "code",
   "execution_count": 13,
   "id": "66636e90",
   "metadata": {},
   "outputs": [
    {
     "name": "stdout",
     "output_type": "stream",
     "text": [
      "win32\n"
     ]
    }
   ],
   "source": [
    "import sys\n",
    "import os\n",
    "\n",
    "print(sys.platform)"
   ]
  },
  {
   "cell_type": "code",
   "execution_count": 14,
   "id": "002f1d34",
   "metadata": {},
   "outputs": [],
   "source": [
    "ls = os.listdir('./')"
   ]
  },
  {
   "cell_type": "code",
   "execution_count": 15,
   "id": "38b968dd",
   "metadata": {},
   "outputs": [
    {
     "name": "stdout",
     "output_type": "stream",
     "text": [
      "['.git', '.gitignore', '01-파이썬시작하기.ipynb', '07-파이썬기본라이브러리.ipynb', '251013.ipynb', 'covid19.csv', 'grade.csv', 'grade2.csv', 'hellopython.txt', 'helloworld.txt', 'my.md', 'mylibrary', 'README.md', 'test.ipynb', '강의자료']\n"
     ]
    }
   ],
   "source": [
    "print(ls)"
   ]
  },
  {
   "cell_type": "code",
   "execution_count": 16,
   "id": "010cd8b2",
   "metadata": {},
   "outputs": [],
   "source": [
    "k = os.path.exists('./hello')"
   ]
  },
  {
   "cell_type": "code",
   "execution_count": 17,
   "id": "6f3053ff",
   "metadata": {},
   "outputs": [
    {
     "name": "stdout",
     "output_type": "stream",
     "text": [
      "False\n"
     ]
    }
   ],
   "source": [
    "print(k)"
   ]
  },
  {
   "cell_type": "code",
   "execution_count": 18,
   "id": "a7a212d6",
   "metadata": {},
   "outputs": [
    {
     "name": "stdout",
     "output_type": "stream",
     "text": [
      "c:\\Users\\itwill\\Desktop\\집\\hello\n"
     ]
    }
   ],
   "source": [
    "print(os.path.abspath('./hello'))"
   ]
  },
  {
   "cell_type": "code",
   "execution_count": 22,
   "id": "eecb0289",
   "metadata": {},
   "outputs": [
    {
     "name": "stdout",
     "output_type": "stream",
     "text": [
      "hello 폴더를 삭제했습니다.\n"
     ]
    }
   ],
   "source": [
    "if os.path.exists('./hello') == False:\n",
    "    os.mkdir('./hello')\n",
    "    print('hello 폴더를 생성했습니다.')\n",
    "else:\n",
    "    os.rmdir('./hello')\n",
    "    print('hello 폴더를 삭제했습니다.')"
   ]
  },
  {
   "cell_type": "code",
   "execution_count": null,
   "id": "0431d5b9",
   "metadata": {},
   "outputs": [
    {
     "name": "stdout",
     "output_type": "stream",
     "text": [
      "['01-파이썬시작하기.ipynb', '07-파이썬기본라이브러리.ipynb', '251013.ipynb', 'covid19.csv', 'grade.csv', 'grade2.csv', 'hellopython.txt', 'helloworld.txt', 'my.md', 'mylibrary', 'README.md', 'test.ipynb', '강의자료']\n"
     ]
    }
   ],
   "source": [
    "import glob as gl\n",
    "\n",
    "#현재 폴더의 모든 하위 요소 조회하기\n",
    "ls = gl.glob('*')\n",
    "print(ls)"
   ]
  },
  {
   "cell_type": "code",
   "execution_count": null,
   "id": "882c5cec",
   "metadata": {},
   "outputs": [
    {
     "name": "stdout",
     "output_type": "stream",
     "text": [
      "['01-파이썬시작하기.ipynb', '07-파이썬기본라이브러리.ipynb', '251013.ipynb', 'test.ipynb']\n"
     ]
    }
   ],
   "source": [
    "#현재 폴더에서 .ipynb로 끝나는 모든 요소들 조회\n",
    "ls = gl.glob('*.ipynb')\n",
    "print(ls)"
   ]
  },
  {
   "cell_type": "code",
   "execution_count": null,
   "id": "79c5b48c",
   "metadata": {},
   "outputs": [
    {
     "name": "stdout",
     "output_type": "stream",
     "text": [
      "['251013.ipynb', 'grade2.csv']\n"
     ]
    }
   ],
   "source": [
    "# 현재 폴더에서 \"2\"를 포함하는 파일 조회\n",
    "ls = gl.glob('*2*')\n",
    "print(ls)"
   ]
  },
  {
   "cell_type": "code",
   "execution_count": 31,
   "id": "68286159",
   "metadata": {},
   "outputs": [
    {
     "name": "stdout",
     "output_type": "stream",
     "text": [
      "python 폴더와 하위 폴더들을 생성했습니다.\n"
     ]
    }
   ],
   "source": [
    "import shutil #파일 , 폴더 관련 작업에 확장된 기능을 제공\n",
    "\n",
    "#현재 작업 위치에 python 폴더가 없으면?\n",
    "if os.path.exists('python') == False:\n",
    "    os.makedirs('python/test/hello/world', exist_ok=True)\n",
    "    print('python 폴더와 하위 폴더들을 생성했습니다.')\n",
    "\n",
    "else:\n",
    "    #비어있지 않은 폴더도 강제 삭제-> 존재하지 않으면 에러\n",
    "    shutil.rmtree('python')\n",
    "    print('python 폴더가 삭제되었습니다.')"
   ]
  },
  {
   "cell_type": "code",
   "execution_count": null,
   "id": "44ba696a",
   "metadata": {},
   "outputs": [
    {
     "name": "stdout",
     "output_type": "stream",
     "text": [
      "python 폴더가 ../created 폴더로 이동되었습니다.\n"
     ]
    }
   ],
   "source": [
    "#폴더의 이동\n",
    "if os.path.exists('python'):\n",
    "    shutil.move('python','../created')\n",
    "    print('python 폴더가 ../created 폴더로 이동되었습니다.')"
   ]
  },
  {
   "cell_type": "code",
   "execution_count": 33,
   "id": "f1b4daeb",
   "metadata": {},
   "outputs": [
    {
     "name": "stdout",
     "output_type": "stream",
     "text": [
      "python 폴더가 copy로 복사되었습니다.\n"
     ]
    }
   ],
   "source": [
    "#폴더의 복사\n",
    "if os.path.exists('../created'):\n",
    "    shutil.copytree('../created','./copy')\n",
    "    print('python 폴더가 copy로 복사되었습니다.')"
   ]
  },
  {
   "cell_type": "code",
   "execution_count": null,
   "id": "f4bbaa6b",
   "metadata": {},
   "outputs": [
    {
     "name": "stdout",
     "output_type": "stream",
     "text": [
      "hello.txt가 삭제되었습니다.\n",
      "world.txt가 삭제되었습니다.\n"
     ]
    }
   ],
   "source": [
    "#os모듈 내의 path 객체가 갖는 exists() 함수 사용\n",
    "\n",
    "if os.path.exists('hello.txt') == False:\n",
    "    with open(\"hello.txt\", \"w\", encoding=\"utf-8\")as f:\n",
    "        f.write(\"Life is too short, you need python\")\n",
    "        print('hello.txt 파일을 생성했습니다.')\n",
    "\n",
    "    shutil.copy('hello.txt','world.txt')\n",
    "    print('hello.txt가 world.txt로 복사되었습니다.')\n",
    "\n",
    "else:\n",
    "    os.remove('hello.txt')\n",
    "    print('hello.txt가 삭제되었습니다.')\n",
    "    os.remove('world.txt')\n",
    "    print('world.txt가 삭제되었습니다.')"
   ]
  },
  {
   "cell_type": "markdown",
   "id": "fa34431c",
   "metadata": {},
   "source": [
    "## 4. 날짜/시간 관련 기능\n"
   ]
  },
  {
   "cell_type": "code",
   "execution_count": 38,
   "id": "f521f0a2",
   "metadata": {},
   "outputs": [
    {
     "name": "stdout",
     "output_type": "stream",
     "text": [
      "2025-10-24 14:46:18.621241\n"
     ]
    }
   ],
   "source": [
    "import datetime as dt\n",
    "now_time = dt.datetime.now()\n",
    "print(now_time)\n"
   ]
  },
  {
   "cell_type": "code",
   "execution_count": 40,
   "id": "3e3eed1e",
   "metadata": {},
   "outputs": [
    {
     "name": "stdout",
     "output_type": "stream",
     "text": [
      "오늘은 2025년 10월 24일 입니다.\n"
     ]
    }
   ],
   "source": [
    "msg = \"오늘은 %d년 %d월 %d일 입니다.\"\n",
    "print(msg%(now_time.year,now_time.month,now_time.day))\n"
   ]
  },
  {
   "cell_type": "code",
   "execution_count": 41,
   "id": "62095bbd",
   "metadata": {},
   "outputs": [
    {
     "name": "stdout",
     "output_type": "stream",
     "text": [
      "지금은 14시 46분 18초 입니다.\n"
     ]
    }
   ],
   "source": [
    "msg = \"지금은 %d시 %d분 %d초 입니다.\"\n",
    "print(msg % (now_time.hour,now_time.minute, now_time.second))"
   ]
  },
  {
   "cell_type": "code",
   "execution_count": 42,
   "id": "01e8a20b",
   "metadata": {},
   "outputs": [
    {
     "name": "stdout",
     "output_type": "stream",
     "text": [
      "4\n"
     ]
    }
   ],
   "source": [
    "d = now_time.weekday()\n",
    "print(d)"
   ]
  },
  {
   "cell_type": "code",
   "execution_count": 43,
   "id": "c25d6473",
   "metadata": {},
   "outputs": [
    {
     "name": "stdout",
     "output_type": "stream",
     "text": [
      "금\n"
     ]
    }
   ],
   "source": [
    "days = (\"월\",\"화\",\"수\",\"목\",\"금\",\"토\",\"일\",)\n",
    "print(days[d])"
   ]
  },
  {
   "cell_type": "code",
   "execution_count": 44,
   "id": "9a55cd74",
   "metadata": {},
   "outputs": [
    {
     "name": "stdout",
     "output_type": "stream",
     "text": [
      "25-10-24 14:46:18\n"
     ]
    }
   ],
   "source": [
    "print(now_time.strftime(\"%y-%m-%d %H:%M:%S\"))"
   ]
  },
  {
   "cell_type": "code",
   "execution_count": 45,
   "id": "76d59551",
   "metadata": {},
   "outputs": [
    {
     "name": "stdout",
     "output_type": "stream",
     "text": [
      "2025년 10월 24일 14시 46분 18초\n"
     ]
    }
   ],
   "source": [
    "print(now_time.strftime(\"%Y년 %m월 %d일 %H시 %M분 %S초\"))"
   ]
  },
  {
   "cell_type": "markdown",
   "id": "bb26a972",
   "metadata": {},
   "source": [
    "#### 특정 시각 지정하기"
   ]
  },
  {
   "cell_type": "code",
   "execution_count": 46,
   "id": "ee2d30ea",
   "metadata": {},
   "outputs": [
    {
     "name": "stdout",
     "output_type": "stream",
     "text": [
      "18-08-30 13:26:55\n"
     ]
    }
   ],
   "source": [
    "someday=dt.datetime(2018,8,30,13,26,55)\n",
    "day_str = someday.strftime(\"%y-%m-%d %H:%M:%S\")\n",
    "print(day_str)"
   ]
  },
  {
   "cell_type": "markdown",
   "id": "28c53db0",
   "metadata": {},
   "source": [
    "#### 날짜 형식의 문자열을 날짜 객체로 변환하기"
   ]
  },
  {
   "cell_type": "code",
   "execution_count": 48,
   "id": "114dbd45",
   "metadata": {},
   "outputs": [
    {
     "name": "stdout",
     "output_type": "stream",
     "text": [
      "17-01-02 14:44:00\n"
     ]
    }
   ],
   "source": [
    "date_str = \"2017년 01월 02일 14시 44분\"\n",
    "#문자열에 대한 날짜 형식을 지정하면 문자열에서 날짜 성분을 추출하여 객체 생성\n",
    "oldday = dt.datetime.strptime(date_str, \"%Y년 %m월 %d일 %H시 %M분\")\n",
    "print(oldday.strftime(\"%y-%m-%d %H:%M:%S\"))"
   ]
  },
  {
   "cell_type": "markdown",
   "id": "d4b26610",
   "metadata": {},
   "source": [
    "#### 날짜 객체에서 특정 값 변경하기"
   ]
  },
  {
   "cell_type": "code",
   "execution_count": 49,
   "id": "220da82d",
   "metadata": {},
   "outputs": [
    {
     "name": "stdout",
     "output_type": "stream",
     "text": [
      "25-10-24 15:04:32\n"
     ]
    }
   ],
   "source": [
    "foo = dt.datetime.now()\n",
    "print(foo.strftime(\"%y-%m-%d %H:%M:%S\"))"
   ]
  },
  {
   "cell_type": "code",
   "execution_count": 50,
   "id": "fc18df04",
   "metadata": {},
   "outputs": [
    {
     "name": "stdout",
     "output_type": "stream",
     "text": [
      "18-10-16 15:04:32\n"
     ]
    }
   ],
   "source": [
    "change_date = foo.replace(year=2018, day=16, hour=15)\n",
    "print(change_date.strftime(\"%y-%m-%d %H:%M:%S\"))"
   ]
  },
  {
   "cell_type": "markdown",
   "id": "b5c5e049",
   "metadata": {},
   "source": [
    "#### 두 날짜 간의 차이 계산하기"
   ]
  },
  {
   "cell_type": "code",
   "execution_count": 51,
   "id": "ffdb6538",
   "metadata": {},
   "outputs": [],
   "source": [
    "dt1 = dt.datetime.now()\n",
    "dt2 = dt.datetime(dt1.year+1,1,1,0,0,0)"
   ]
  },
  {
   "cell_type": "code",
   "execution_count": 52,
   "id": "ef31445e",
   "metadata": {},
   "outputs": [
    {
     "name": "stdout",
     "output_type": "stream",
     "text": [
      "68 days, 8:54:36.881632\n"
     ]
    }
   ],
   "source": [
    "td = dt2-dt1\n",
    "print(td)"
   ]
  },
  {
   "cell_type": "code",
   "execution_count": 53,
   "id": "c93aa6c1",
   "metadata": {},
   "outputs": [
    {
     "name": "stdout",
     "output_type": "stream",
     "text": [
      "68\n",
      "32076\n",
      "올해는 68일 남았습니다.\n"
     ]
    }
   ],
   "source": [
    "print(td.days)\n",
    "print(td.seconds)\n",
    "print(\"올해는 %d일 남았습니다.\" %td.days)"
   ]
  },
  {
   "cell_type": "code",
   "execution_count": 54,
   "id": "95ce9729",
   "metadata": {},
   "outputs": [
    {
     "name": "stdout",
     "output_type": "stream",
     "text": [
      "5907276.881632\n"
     ]
    }
   ],
   "source": [
    "result = td.total_seconds()\n",
    "print(result)"
   ]
  },
  {
   "cell_type": "markdown",
   "id": "7dcede98",
   "metadata": {},
   "source": [
    "#### 며칠 후의 날짜 계산하기"
   ]
  },
  {
   "cell_type": "code",
   "execution_count": 55,
   "id": "3ddd0c53",
   "metadata": {},
   "outputs": [
    {
     "name": "stdout",
     "output_type": "stream",
     "text": [
      "2026-02-01 16:08:52\n"
     ]
    }
   ],
   "source": [
    "#timedelta 객체 만들기(더하거나 뺄 값) --> 100일 + 3600초\n",
    "d = dt.timedelta(days=100, seconds = 3600)\n",
    "\n",
    "#특정 시각(혹은 현재 시각)에 timedelta 객체를 더해 연산결과를 얻을 수 있음\n",
    "now_time = dt.datetime.now()\n",
    "\n",
    "#연산 결과는 datetime 객체가 됨\n",
    "after_time = now_time + d\n",
    "\n",
    "print(after_time.strftime(\"%Y-%m-%d %H:%M:%S\"))"
   ]
  },
  {
   "cell_type": "markdown",
   "id": "196cd90a",
   "metadata": {},
   "source": [
    "##### 파이썬으로 네이버 메일 보내기"
   ]
  },
  {
   "cell_type": "code",
   "execution_count": null,
   "id": "b5943da8",
   "metadata": {},
   "outputs": [
    {
     "name": "stdout",
     "output_type": "stream",
     "text": [
      "helloworld.txt (이)가 첨부되었습니다.\n",
      "world.txt (이)가 첨부되었습니다.\n"
     ]
    },
    {
     "ename": "SMTPAuthenticationError",
     "evalue": "(535, b'5.7.1 Username and Password not accepted pfKJXKMzRSKXjaenLobODQ - nsmtp')",
     "output_type": "error",
     "traceback": [
      "\u001b[31m---------------------------------------------------------------------------\u001b[39m",
      "\u001b[31mSMTPAuthenticationError\u001b[39m                   Traceback (most recent call last)",
      "\u001b[36mCell\u001b[39m\u001b[36m \u001b[39m\u001b[32mIn[2]\u001b[39m\u001b[32m, line 81\u001b[39m\n\u001b[32m     79\u001b[39m mail.starttls()\n\u001b[32m     80\u001b[39m \u001b[38;5;66;03m#메일 서버 로그인\u001b[39;00m\n\u001b[32m---> \u001b[39m\u001b[32m81\u001b[39m \u001b[43mmail\u001b[49m\u001b[43m.\u001b[49m\u001b[43mlogin\u001b[49m\u001b[43m(\u001b[49m\u001b[43musername\u001b[49m\u001b[43m,\u001b[49m\u001b[43m \u001b[49m\u001b[43mpassword\u001b[49m\u001b[43m)\u001b[49m\n\u001b[32m     82\u001b[39m \u001b[38;5;66;03m#메일 보내기\u001b[39;00m\n\u001b[32m     83\u001b[39m mail.sendmail(from_addr, to_addr, msg.as_string())\n",
      "\u001b[36mFile \u001b[39m\u001b[32mc:\\Users\\itwill\\AppData\\Local\\Programs\\Python\\Python313\\Lib\\smtplib.py:764\u001b[39m, in \u001b[36mSMTP.login\u001b[39m\u001b[34m(self, user, password, initial_response_ok)\u001b[39m\n\u001b[32m    761\u001b[39m         last_exception = e\n\u001b[32m    763\u001b[39m \u001b[38;5;66;03m# We could not login successfully.  Return result of last attempt.\u001b[39;00m\n\u001b[32m--> \u001b[39m\u001b[32m764\u001b[39m \u001b[38;5;28;01mraise\u001b[39;00m last_exception\n",
      "\u001b[36mFile \u001b[39m\u001b[32mc:\\Users\\itwill\\AppData\\Local\\Programs\\Python\\Python313\\Lib\\smtplib.py:753\u001b[39m, in \u001b[36mSMTP.login\u001b[39m\u001b[34m(self, user, password, initial_response_ok)\u001b[39m\n\u001b[32m    751\u001b[39m method_name = \u001b[33m'\u001b[39m\u001b[33mauth_\u001b[39m\u001b[33m'\u001b[39m + authmethod.lower().replace(\u001b[33m'\u001b[39m\u001b[33m-\u001b[39m\u001b[33m'\u001b[39m, \u001b[33m'\u001b[39m\u001b[33m_\u001b[39m\u001b[33m'\u001b[39m)\n\u001b[32m    752\u001b[39m \u001b[38;5;28;01mtry\u001b[39;00m:\n\u001b[32m--> \u001b[39m\u001b[32m753\u001b[39m     (code, resp) = \u001b[38;5;28;43mself\u001b[39;49m\u001b[43m.\u001b[49m\u001b[43mauth\u001b[49m\u001b[43m(\u001b[49m\n\u001b[32m    754\u001b[39m \u001b[43m        \u001b[49m\u001b[43mauthmethod\u001b[49m\u001b[43m,\u001b[49m\u001b[43m \u001b[49m\u001b[38;5;28;43mgetattr\u001b[39;49m\u001b[43m(\u001b[49m\u001b[38;5;28;43mself\u001b[39;49m\u001b[43m,\u001b[49m\u001b[43m \u001b[49m\u001b[43mmethod_name\u001b[49m\u001b[43m)\u001b[49m\u001b[43m,\u001b[49m\n\u001b[32m    755\u001b[39m \u001b[43m        \u001b[49m\u001b[43minitial_response_ok\u001b[49m\u001b[43m=\u001b[49m\u001b[43minitial_response_ok\u001b[49m\u001b[43m)\u001b[49m\n\u001b[32m    756\u001b[39m     \u001b[38;5;66;03m# 235 == 'Authentication successful'\u001b[39;00m\n\u001b[32m    757\u001b[39m     \u001b[38;5;66;03m# 503 == 'Error: already authenticated'\u001b[39;00m\n\u001b[32m    758\u001b[39m     \u001b[38;5;28;01mif\u001b[39;00m code \u001b[38;5;129;01min\u001b[39;00m (\u001b[32m235\u001b[39m, \u001b[32m503\u001b[39m):\n",
      "\u001b[36mFile \u001b[39m\u001b[32mc:\\Users\\itwill\\AppData\\Local\\Programs\\Python\\Python313\\Lib\\smtplib.py:671\u001b[39m, in \u001b[36mSMTP.auth\u001b[39m\u001b[34m(self, mechanism, authobject, initial_response_ok)\u001b[39m\n\u001b[32m    669\u001b[39m \u001b[38;5;28;01mif\u001b[39;00m code \u001b[38;5;129;01min\u001b[39;00m (\u001b[32m235\u001b[39m, \u001b[32m503\u001b[39m):\n\u001b[32m    670\u001b[39m     \u001b[38;5;28;01mreturn\u001b[39;00m (code, resp)\n\u001b[32m--> \u001b[39m\u001b[32m671\u001b[39m \u001b[38;5;28;01mraise\u001b[39;00m SMTPAuthenticationError(code, resp)\n",
      "\u001b[31mSMTPAuthenticationError\u001b[39m: (535, b'5.7.1 Username and Password not accepted pfKJXKMzRSKXjaenLobODQ - nsmtp')"
     ]
    }
   ],
   "source": [
    "# -> 경로 정보를 취득하기 위한 모듈\n",
    "import os\n",
    "# -> 발송서버와 연동하기 위한 모듈\n",
    "from smtplib import SMTP\n",
    "# -> 본문 구성 기능\n",
    "from email.mime.text import MIMEText\n",
    "# -> 파일을 Multipart 형식으로 변환\n",
    "from email.mime.application import MIMEApplication\n",
    "# -> 파일을 본문에 추가하는 기능 제공\n",
    "from email.mime.multipart import MIMEMultipart\n",
    "\n",
    "# 보내는 사람 주소 (로그인 계정과 동일 해야 함)\n",
    "from_addr = \"\"\n",
    "\n",
    "# 받는 사람 주소\n",
    "to_addr = \"\"\n",
    "\n",
    "# 제목\n",
    "subject = \"파이썬 메일 발송 테스트 입니다.\"\n",
    "\n",
    "# 본문내용 작성 -> 삼중따옴표 = 엔터 가능\n",
    "content = \"\"\"안녕하세요. 파이썬으로 발송하는 메일입니다\n",
    "잘 발송되는지 확인해 보도록 하겠습니다.\n",
    "하나 둘 ~ 셋\"\"\"\n",
    "\n",
    "# 첨부파일이 필요 없는 경우\n",
    "# files = []\n",
    "\n",
    "#첨부 파일이 필요한 경우 (파일이 실존하는 경우)\n",
    "files = [\"helloworld.txt\", \"world.txt\"]\n",
    "\n",
    "# 컨텐츠 형식(plain or html)\n",
    "content_type = \"plain\"\n",
    "\n",
    "# 로그인 계정 이름(네이버 = 아이디, 구글 = 메일 주소)\n",
    "username = \"\"\n",
    "\n",
    "# 비밀번호 (네이버=개인비밀번호, 애플리케이션 비밀번호, 구글=앱 비밀번호)\n",
    "password =\"\"\n",
    "\n",
    "#구글 발송 서버 주소와 포트(고정값)\n",
    "# smtp = \"smtp.gmail.com\"\n",
    "# port = 587\n",
    "\n",
    "#네이버 발송 서버 주소와 포트(고정값)\n",
    "smtp = \"smtp.naver.com\"\n",
    "port = 465\n",
    "\n",
    "#메일 발송 정보를 저장하기 위한 객체\n",
    "msg = MIMEMultipart()\n",
    "msg['Subject'] = subject #제목\n",
    "msg['From'] = from_addr  #보내는 사람\n",
    "msg['To']=to_addr        #받는 사람\n",
    "\n",
    "#본문 설정 -> 메일의 내용과 형식 지정\n",
    "msg.attach(MIMEText(content,content_type))\n",
    "\n",
    "#리스트 변수의 원소가 하나라도 존재할 경우 True\n",
    "if files:\n",
    "    for file_item in files:\n",
    "        if os.path.exists(file_item):\n",
    "            # 바이너리(b) 형식으로 읽기(r)\n",
    "            with open(file_item, 'rb') as f:\n",
    "                #전체 경로에서 파일의 이름만 추출\n",
    "                basename = os.path.basename(file_item)\n",
    "                #파일의 내용과 파일이름을 메일에 첨부할 형식으로 변환\n",
    "                part = MIMEApplication(f.read(), Name=basename)\n",
    "\n",
    "                #파일첨부\n",
    "                part['Content-Disposition'] = 'attachment; filename=\"%s\"' %basename\n",
    "                msg.attach(part)\n",
    "\n",
    "                print(basename, \"(이)가 첨부되었습니다.\")\n",
    "\n",
    "mail = SMTP(smtp)\n",
    "#메일 서버 접속\n",
    "mail.ehlo()\n",
    "#메일 서버 연동 설정\n",
    "mail.starttls()\n",
    "#메일 서버 로그인\n",
    "mail.login(username, password)\n",
    "#메일 보내기\n",
    "mail.sendmail(from_addr, to_addr, msg.as_string())\n",
    "#메일 서버 접속 종료\n",
    "mail.quit()"
   ]
  },
  {
   "cell_type": "code",
   "execution_count": null,
   "id": "346a6c73",
   "metadata": {},
   "outputs": [],
   "source": []
  }
 ],
 "metadata": {
  "kernelspec": {
   "display_name": "Python 3",
   "language": "python",
   "name": "python3"
  },
  "language_info": {
   "codemirror_mode": {
    "name": "ipython",
    "version": 3
   },
   "file_extension": ".py",
   "mimetype": "text/x-python",
   "name": "python",
   "nbconvert_exporter": "python",
   "pygments_lexer": "ipython3",
   "version": "3.13.9"
  }
 },
 "nbformat": 4,
 "nbformat_minor": 5
}
