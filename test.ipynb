{
 "cells": [
  {
   "cell_type": "code",
   "execution_count": 1,
   "id": "c93b7b02",
   "metadata": {},
   "outputs": [
    {
     "name": "stdout",
     "output_type": "stream",
     "text": [
      "Hello, World!\n"
     ]
    }
   ],
   "source": [
    "print(\"Hello, World!\")"
   ]
  },
  {
   "cell_type": "code",
   "execution_count": 4,
   "id": "83235c48",
   "metadata": {},
   "outputs": [
    {
     "name": "stdout",
     "output_type": "stream",
     "text": [
      "2\n"
     ]
    }
   ],
   "source": [
    "order= 29423\n",
    "\n",
    "answer = 0\n",
    "str_order=list(str(order))\n",
    "for i in range(0,len(str_order)):\n",
    "    if str_order[i]=='3' or str_order[i]=='6' or str_order[i]=='9' :\n",
    "        answer+=1\n",
    "print(answer)"
   ]
  },
  {
   "cell_type": "code",
   "execution_count": null,
   "id": "133b4e05",
   "metadata": {},
   "outputs": [
    {
     "name": "stdout",
     "output_type": "stream",
     "text": [
      "fail\n"
     ]
    }
   ],
   "source": [
    "id_pw = [\"abc04\", \"345\"]\n",
    "db=  [[\"abc04\", \"335\"], [\"abc03\", \"345\"]]\n",
    "\n",
    "answer = ''\n",
    "flag=0\n",
    "for i in db:\n",
    "    if id_pw[0] == i[0] and id_pw[1]==i[1]:\n",
    "        answer = 'login'\n",
    "    elif id_pw[0] == i[0] and id_pw[1]!=i[1]:\n",
    "        answer = 'wrong pw'\n",
    "        flag=1\n",
    "    else:\n",
    "        answer = 'fail'\n",
    "if flag==1:\n",
    "    answer = 'wrong pw'\n",
    "print(answer)"
   ]
  },
  {
   "cell_type": "code",
   "execution_count": 3,
   "id": "63227a00",
   "metadata": {},
   "outputs": [
    {
     "name": "stdout",
     "output_type": "stream",
     "text": [
      "1 2\n",
      "2\n"
     ]
    }
   ],
   "source": [
    "spell=[\"a\", \"b\"]\n",
    "dic=[\"a\"]\n",
    "answer = 0\n",
    "count=0\n",
    "for i in dic:\n",
    "    for j in spell:\n",
    "        if j in i:\n",
    "            count+=1\n",
    "            print(count,len(spell))\n",
    "            if count==len(spell):\n",
    "                break\n",
    "        else:\n",
    "            count=0\n",
    "    if count==len(spell):\n",
    "        answer=1\n",
    "        break\n",
    "    else:\n",
    "        answer=2\n",
    "print(answer)"
   ]
  },
  {
   "cell_type": "code",
   "execution_count": null,
   "id": "c8bb2689",
   "metadata": {},
   "outputs": [
    {
     "name": "stdout",
     "output_type": "stream",
     "text": [
      "{0: 1, 1: 1}\n",
      "3\n"
     ]
    }
   ],
   "source": [
    "array =[3,1]\n",
    "n=2\n",
    "answer = 0\n",
    "sub={}\n",
    "min_key =0\n",
    "min_value=0\n",
    "for i,v in enumerate(array):\n",
    "    sub[i]=(abs(n-v))\n",
    "\n",
    "min_key=min(sub, key=sub.get)\n",
    "# min_value=min(sub.values())\n",
    "# print(min_key,min_value)\n",
    "print(sub)\n",
    "answer = array[min_key]\n",
    "print(answer)\n",
    "#차이가 같으면 작은수를 반환하도록"
   ]
  },
  {
   "cell_type": "code",
   "execution_count": null,
   "id": "c882cbd6",
   "metadata": {},
   "outputs": [],
   "source": []
  }
 ],
 "metadata": {
  "kernelspec": {
   "display_name": "Python 3",
   "language": "python",
   "name": "python3"
  },
  "language_info": {
   "codemirror_mode": {
    "name": "ipython",
    "version": 3
   },
   "file_extension": ".py",
   "mimetype": "text/x-python",
   "name": "python",
   "nbconvert_exporter": "python",
   "pygments_lexer": "ipython3",
   "version": "3.13.9"
  }
 },
 "nbformat": 4,
 "nbformat_minor": 5
}
