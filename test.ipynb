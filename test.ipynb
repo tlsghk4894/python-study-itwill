{
 "cells": [
  {
   "cell_type": "code",
   "execution_count": 1,
   "id": "c93b7b02",
   "metadata": {},
   "outputs": [
    {
     "name": "stdout",
     "output_type": "stream",
     "text": [
      "Hello, World!\n"
     ]
    }
   ],
   "source": [
    "print(\"Hello, World!\")"
   ]
  },
  {
   "cell_type": "code",
   "execution_count": 4,
   "id": "83235c48",
   "metadata": {},
   "outputs": [
    {
     "name": "stdout",
     "output_type": "stream",
     "text": [
      "2\n"
     ]
    }
   ],
   "source": [
    "order= 29423\n",
    "\n",
    "answer = 0\n",
    "str_order=list(str(order))\n",
    "for i in range(0,len(str_order)):\n",
    "    if str_order[i]=='3' or str_order[i]=='6' or str_order[i]=='9' :\n",
    "        answer+=1\n",
    "print(answer)"
   ]
  },
  {
   "cell_type": "code",
   "execution_count": null,
   "id": "133b4e05",
   "metadata": {},
   "outputs": [
    {
     "name": "stdout",
     "output_type": "stream",
     "text": [
      "fail\n"
     ]
    }
   ],
   "source": [
    "id_pw = [\"abc04\", \"345\"]\n",
    "db=  [[\"abc04\", \"335\"], [\"abc03\", \"345\"]]\n",
    "\n",
    "answer = ''\n",
    "flag=0\n",
    "for i in db:\n",
    "    if id_pw[0] == i[0] and id_pw[1]==i[1]:\n",
    "        answer = 'login'\n",
    "    elif id_pw[0] == i[0] and id_pw[1]!=i[1]:\n",
    "        answer = 'wrong pw'\n",
    "        flag=1\n",
    "    else:\n",
    "        answer = 'fail'\n",
    "if flag==1:\n",
    "    answer = 'wrong pw'\n",
    "print(answer)"
   ]
  },
  {
   "cell_type": "code",
   "execution_count": 3,
   "id": "63227a00",
   "metadata": {},
   "outputs": [
    {
     "name": "stdout",
     "output_type": "stream",
     "text": [
      "1 2\n",
      "2\n"
     ]
    }
   ],
   "source": [
    "spell=[\"a\", \"b\"]\n",
    "dic=[\"a\"]\n",
    "answer = 0\n",
    "count=0\n",
    "for i in dic:\n",
    "    for j in spell:\n",
    "        if j in i:\n",
    "            count+=1\n",
    "            print(count,len(spell))\n",
    "            if count==len(spell):\n",
    "                break\n",
    "        else:\n",
    "            count=0\n",
    "    if count==len(spell):\n",
    "        answer=1\n",
    "        break\n",
    "    else:\n",
    "        answer=2\n",
    "print(answer)"
   ]
  },
  {
   "cell_type": "code",
   "execution_count": null,
   "id": "c8bb2689",
   "metadata": {},
   "outputs": [
    {
     "name": "stdout",
     "output_type": "stream",
     "text": [
      "{0: 1, 1: 1}\n",
      "3\n"
     ]
    }
   ],
   "source": [
    "array =[3,1]\n",
    "n=2\n",
    "answer = 0\n",
    "sub={}\n",
    "min_key =0\n",
    "min_value=0\n",
    "for i,v in enumerate(array):\n",
    "    sub[i]=(abs(n-v))\n",
    "\n",
    "min_key=min(sub, key=sub.get)\n",
    "# min_value=min(sub.values())\n",
    "# print(min_key,min_value)\n",
    "print(sub)\n",
    "answer = array[min_key]\n",
    "print(answer)\n",
    "#차이가 같으면 작은수를 반환하도록"
   ]
  },
  {
   "cell_type": "code",
   "execution_count": null,
   "id": "c882cbd6",
   "metadata": {},
   "outputs": [
    {
     "ename": "ValueError",
     "evalue": "not enough values to unpack (expected 2, got 1)",
     "output_type": "error",
     "traceback": [
      "\u001b[31m---------------------------------------------------------------------------\u001b[39m",
      "\u001b[31mValueError\u001b[39m                                Traceback (most recent call last)",
      "\u001b[36mCell\u001b[39m\u001b[36m \u001b[39m\u001b[32mIn[1]\u001b[39m\u001b[32m, line 5\u001b[39m\n\u001b[32m      3\u001b[39m answer = \u001b[32m0\u001b[39m\n\u001b[32m      4\u001b[39m str_num = \u001b[38;5;28mstr\u001b[39m(num)\n\u001b[32m----> \u001b[39m\u001b[32m5\u001b[39m \u001b[38;5;28;01mfor\u001b[39;00m i,v \u001b[38;5;129;01min\u001b[39;00m str_num:\n\u001b[32m      6\u001b[39m     \u001b[38;5;28;01mif\u001b[39;00m v==\u001b[38;5;28mstr\u001b[39m(k):\n\u001b[32m      7\u001b[39m         answer=i\n",
      "\u001b[31mValueError\u001b[39m: not enough values to unpack (expected 2, got 1)"
     ]
    }
   ],
   "source": [
    "num=29183\n",
    "k=1\n",
    "answer = 0\n",
    "str_num = str(num)\n",
    "for i,v in enumerate(str_num):\n",
    "    if v==str(k):\n",
    "        answer=i\n",
    "print(answer)"
   ]
  },
  {
   "cell_type": "code",
   "execution_count": 1,
   "id": "e1389872",
   "metadata": {},
   "outputs": [
    {
     "name": "stdout",
     "output_type": "stream",
     "text": [
      "hlelo\n"
     ]
    }
   ],
   "source": [
    "my_string=\"hello\"\n",
    "num1=1\n",
    "num2=2\n",
    "answer = ''\n",
    "temp=''\n",
    "# for i in my_string:\n",
    "my_string=list(my_string)\n",
    "temp=my_string[num1]\n",
    "my_string[num1]=my_string[num2]\n",
    "my_string[num2]=temp\n",
    "answer=''.join(my_string)\n",
    "print(answer)"
   ]
  },
  {
   "cell_type": "code",
   "execution_count": 25,
   "id": "5b7280e3",
   "metadata": {},
   "outputs": [
    {
     "name": "stdout",
     "output_type": "stream",
     "text": [
      "i: 1, answer : 2\n",
      "(if문) i: 2, answer : 4\n",
      "i: 2, answer : 4\n",
      "i: 3, answer : 5\n",
      "(if문) i: 4, answer : 7\n",
      "i: 4, answer : 7\n",
      "i: 5, answer : 8\n",
      "(if문) i: 6, answer : 10\n",
      "i: 6, answer : 10\n",
      "i: 7, answer : 11\n",
      "(if문) i: 8, answer : 13\n",
      "(elif문) i: 8, answer : 14\n",
      "i: 8, answer : 14\n",
      "(if문) i: 9, answer : 16\n",
      "i: 9, answer : 16\n",
      "i: 10, answer : 17\n",
      "(if문) i: 11, answer : 19\n",
      "i: 11, answer : 19\n",
      "i: 12, answer : 20\n",
      "(if문) i: 13, answer : 22\n",
      "i: 13, answer : 22\n",
      "(elif문) i: 14, answer : 24\n",
      "i: 14, answer : 24\n",
      "i: 15, answer : 25\n",
      "25\n"
     ]
    }
   ],
   "source": [
    "n = 15\n",
    "answer = 1\n",
    "\n",
    "for i in range(1,n+1):\n",
    "    answer+=1\n",
    "    if answer % 3 == 0:\n",
    "        answer+=1\n",
    "        print('(if문) i: {0}, answer : {1}'.format(i,answer))\n",
    "    if '3' in str(answer):\n",
    "        answer+=1\n",
    "        print('(elif문) i: {0}, answer : {1}'.format(i,answer))\n",
    "    print('i: {0}, answer : {1}'.format(i,answer))\n",
    "print(answer)"
   ]
  },
  {
   "cell_type": "code",
   "execution_count": 36,
   "id": "97f0fb29",
   "metadata": {},
   "outputs": [
    {
     "name": "stdout",
     "output_type": "stream",
     "text": [
      "[[1, 2], [3, 4], [5, 6], [7, 8]]\n"
     ]
    }
   ],
   "source": [
    "num_list = [1,2,3,4,5,6,7,8]\n",
    "n=2\n",
    "answer = []\n",
    "for i in range(0,len(num_list),n):\n",
    "    flag = num_list[i:i+n]\n",
    "    answer.append(flag)\n",
    "print(answer)"
   ]
  },
  {
   "cell_type": "code",
   "execution_count": 44,
   "id": "6bf65d9e",
   "metadata": {},
   "outputs": [
    {
     "name": "stdout",
     "output_type": "stream",
     "text": [
      "[76, 24, 3]\n",
      "(1, 76)\n",
      "(2, 24)\n",
      "(3, 3)\n",
      "(1, 76)\n",
      "(2, 24)\n",
      "(3, 3)\n",
      "(1, 76)\n",
      "(2, 24)\n",
      "(3, 3)\n"
     ]
    }
   ],
   "source": [
    "emergency = [3,76,24]\n",
    "answer = []\n",
    "sorted_emergency = sorted(emergency,reverse=True)\n",
    "print(sorted_emergency)\n",
    "result ={}\n",
    "for i,v in enumerate(sorted_emergency):\n",
    "    result[i+1] = v\n",
    "    \n",
    "for i in emergency:\n",
    "    for j in result.items():\n",
    "        print(j)\n",
    "        # if j.values() == i:\n",
    "        #     answer.append(j.getKey())\n",
    "# print(result)\n",
    "# return answer"
   ]
  },
  {
   "cell_type": "code",
   "execution_count": 59,
   "id": "0a782bb3",
   "metadata": {},
   "outputs": [
    {
     "name": "stdout",
     "output_type": "stream",
     "text": [
      "{1: 1, 2: 1, 3: 3, 4: 1}\n",
      "3\n"
     ]
    }
   ],
   "source": [
    "array = [1, 2, 3, 3, 3, 4]\n",
    "answer = 0\n",
    "dict = {}\n",
    "\n",
    "for i in array:\n",
    "    if i not in dict:\n",
    "        dict[i] = 1\n",
    "    else:\n",
    "        dict[i]+=1\n",
    "\n",
    "print(dict)\n",
    "answer = max(dict.values())\n",
    "print(answer)"
   ]
  },
  {
   "cell_type": "code",
   "execution_count": 16,
   "id": "4f7f9a0c",
   "metadata": {},
   "outputs": [
    {
     "name": "stdout",
     "output_type": "stream",
     "text": [
      "{80: 3, 9: 2}\n",
      "80\n",
      "3\n",
      "80\n"
     ]
    }
   ],
   "source": [
    "array = [80, 80, 80, 9, 9]\n",
    "answer = 0\n",
    "dict = {}\n",
    "\n",
    "for i in array:\n",
    "    if i not in dict:\n",
    "        dict[i] = 1\n",
    "    else:\n",
    "        dict[i]+=1\n",
    "print(dict)\n",
    "max_array = max(dict,key=dict.get)\n",
    "max_array_value = max(dict.values())\n",
    "print(max_array)\n",
    "print(max_array_value)\n",
    "count = 0\n",
    "for i,v in dict.items():\n",
    "    if v == max_array_value:\n",
    "        count+=1\n",
    "if count>1:\n",
    "    answer=-1\n",
    "else:\n",
    "    answer=max_array\n",
    "\n",
    "print(answer)"
   ]
  },
  {
   "cell_type": "code",
   "execution_count": 24,
   "id": "cbe7a27d",
   "metadata": {},
   "outputs": [
    {
     "data": {
      "text/plain": [
       "True"
      ]
     },
     "execution_count": 24,
     "metadata": {},
     "output_type": "execute_result"
    }
   ],
   "source": [
    "x=100\n",
    "y=100.0\n",
    "x == y"
   ]
  },
  {
   "cell_type": "code",
   "execution_count": 36,
   "id": "5ae0b824",
   "metadata": {},
   "outputs": [
    {
     "name": "stdout",
     "output_type": "stream",
     "text": [
      "9\n",
      "9\n"
     ]
    }
   ],
   "source": [
    "my_string=\"R9\"\n",
    "answer = 0\n",
    "flag=''\n",
    "for i in my_string:\n",
    "    # print(i)\n",
    "    if i.isnumeric():\n",
    "        flag+=i\n",
    "        print(flag)\n",
    "    elif flag:\n",
    "        answer+=int(flag)\n",
    "        flag=''\n",
    "if flag:\n",
    "    answer+=int(flag)\n",
    "print(answer)"
   ]
  },
  {
   "cell_type": "code",
   "execution_count": 40,
   "id": "68d3c381",
   "metadata": {},
   "outputs": [
    {
     "name": "stdout",
     "output_type": "stream",
     "text": [
      "None\n"
     ]
    }
   ],
   "source": [
    "x=None\n",
    "print(x)"
   ]
  },
  {
   "cell_type": "code",
   "execution_count": null,
   "id": "5af04ce3",
   "metadata": {},
   "outputs": [],
   "source": []
  }
 ],
 "metadata": {
  "kernelspec": {
   "display_name": "Python 3",
   "language": "python",
   "name": "python3"
  },
  "language_info": {
   "codemirror_mode": {
    "name": "ipython",
    "version": 3
   },
   "file_extension": ".py",
   "mimetype": "text/x-python",
   "name": "python",
   "nbconvert_exporter": "python",
   "pygments_lexer": "ipython3",
   "version": "3.13.9"
  }
 },
 "nbformat": 4,
 "nbformat_minor": 5
}
