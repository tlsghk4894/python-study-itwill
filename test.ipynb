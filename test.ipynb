{
 "cells": [
  {
   "cell_type": "code",
   "execution_count": 1,
   "id": "c93b7b02",
   "metadata": {},
   "outputs": [
    {
     "name": "stdout",
     "output_type": "stream",
     "text": [
      "Hello, World!\n"
     ]
    }
   ],
   "source": [
    "print(\"Hello, World!\")"
   ]
  },
  {
   "cell_type": "code",
   "execution_count": 4,
   "id": "83235c48",
   "metadata": {},
   "outputs": [
    {
     "name": "stdout",
     "output_type": "stream",
     "text": [
      "2\n"
     ]
    }
   ],
   "source": [
    "order= 29423\n",
    "\n",
    "answer = 0\n",
    "str_order=list(str(order))\n",
    "for i in range(0,len(str_order)):\n",
    "    if str_order[i]=='3' or str_order[i]=='6' or str_order[i]=='9' :\n",
    "        answer+=1\n",
    "print(answer)"
   ]
  },
  {
   "cell_type": "code",
   "execution_count": null,
   "id": "133b4e05",
   "metadata": {},
   "outputs": [
    {
     "name": "stdout",
     "output_type": "stream",
     "text": [
      "fail\n"
     ]
    }
   ],
   "source": [
    "id_pw = [\"abc04\", \"345\"]\n",
    "db=  [[\"abc04\", \"335\"], [\"abc03\", \"345\"]]\n",
    "\n",
    "answer = ''\n",
    "flag=0\n",
    "for i in db:\n",
    "    if id_pw[0] == i[0] and id_pw[1]==i[1]:\n",
    "        answer = 'login'\n",
    "    elif id_pw[0] == i[0] and id_pw[1]!=i[1]:\n",
    "        answer = 'wrong pw'\n",
    "        flag=1\n",
    "    else:\n",
    "        answer = 'fail'\n",
    "if flag==1:\n",
    "    answer = 'wrong pw'\n",
    "print(answer)"
   ]
  },
  {
   "cell_type": "code",
   "execution_count": 3,
   "id": "63227a00",
   "metadata": {},
   "outputs": [
    {
     "name": "stdout",
     "output_type": "stream",
     "text": [
      "1 2\n",
      "2\n"
     ]
    }
   ],
   "source": [
    "spell=[\"a\", \"b\"]\n",
    "dic=[\"a\"]\n",
    "answer = 0\n",
    "count=0\n",
    "for i in dic:\n",
    "    for j in spell:\n",
    "        if j in i:\n",
    "            count+=1\n",
    "            print(count,len(spell))\n",
    "            if count==len(spell):\n",
    "                break\n",
    "        else:\n",
    "            count=0\n",
    "    if count==len(spell):\n",
    "        answer=1\n",
    "        break\n",
    "    else:\n",
    "        answer=2\n",
    "print(answer)"
   ]
  },
  {
   "cell_type": "code",
   "execution_count": null,
   "id": "c8bb2689",
   "metadata": {},
   "outputs": [
    {
     "name": "stdout",
     "output_type": "stream",
     "text": [
      "{0: 1, 1: 1}\n",
      "3\n"
     ]
    }
   ],
   "source": [
    "array =[3,1]\n",
    "n=2\n",
    "answer = 0\n",
    "sub={}\n",
    "min_key =0\n",
    "min_value=0\n",
    "for i,v in enumerate(array):\n",
    "    sub[i]=(abs(n-v))\n",
    "\n",
    "min_key=min(sub, key=sub.get)\n",
    "# min_value=min(sub.values())\n",
    "# print(min_key,min_value)\n",
    "print(sub)\n",
    "answer = array[min_key]\n",
    "print(answer)\n",
    "#차이가 같으면 작은수를 반환하도록"
   ]
  },
  {
   "cell_type": "code",
   "execution_count": null,
   "id": "c882cbd6",
   "metadata": {},
   "outputs": [
    {
     "ename": "ValueError",
     "evalue": "not enough values to unpack (expected 2, got 1)",
     "output_type": "error",
     "traceback": [
      "\u001b[31m---------------------------------------------------------------------------\u001b[39m",
      "\u001b[31mValueError\u001b[39m                                Traceback (most recent call last)",
      "\u001b[36mCell\u001b[39m\u001b[36m \u001b[39m\u001b[32mIn[1]\u001b[39m\u001b[32m, line 5\u001b[39m\n\u001b[32m      3\u001b[39m answer = \u001b[32m0\u001b[39m\n\u001b[32m      4\u001b[39m str_num = \u001b[38;5;28mstr\u001b[39m(num)\n\u001b[32m----> \u001b[39m\u001b[32m5\u001b[39m \u001b[38;5;28;01mfor\u001b[39;00m i,v \u001b[38;5;129;01min\u001b[39;00m str_num:\n\u001b[32m      6\u001b[39m     \u001b[38;5;28;01mif\u001b[39;00m v==\u001b[38;5;28mstr\u001b[39m(k):\n\u001b[32m      7\u001b[39m         answer=i\n",
      "\u001b[31mValueError\u001b[39m: not enough values to unpack (expected 2, got 1)"
     ]
    }
   ],
   "source": [
    "num=29183\n",
    "k=1\n",
    "answer = 0\n",
    "str_num = str(num)\n",
    "for i,v in enumerate(str_num):\n",
    "    if v==str(k):\n",
    "        answer=i\n",
    "print(answer)"
   ]
  },
  {
   "cell_type": "code",
   "execution_count": null,
   "id": "e1389872",
   "metadata": {},
   "outputs": [
    {
     "name": "stdout",
     "output_type": "stream",
     "text": [
      "['h', 'l', 'e', 'l', 'o']\n",
      "hlelo\n"
     ]
    }
   ],
   "source": [
    "my_string=\"hello\"\n",
    "num1=1\n",
    "num2=2\n",
    "answer = ''\n",
    "temp=''\n",
    "# for i in my_string:\n",
    "my_string=list(my_string)\n",
    "temp=my_string[num1]\n",
    "my_string[num1]=my_string[num2]\n",
    "my_string[num2]=temp\n",
    "answer=''.join(my_string)\n",
    "print(answer)"
   ]
  },
  {
   "cell_type": "code",
   "execution_count": null,
   "id": "5b7280e3",
   "metadata": {},
   "outputs": [],
   "source": [
    "테스트를 해봅시다"
   ]
  }
 ],
 "metadata": {
  "kernelspec": {
   "display_name": "Python 3",
   "language": "python",
   "name": "python3"
  },
  "language_info": {
   "codemirror_mode": {
    "name": "ipython",
    "version": 3
   },
   "file_extension": ".py",
   "mimetype": "text/x-python",
   "name": "python",
   "nbconvert_exporter": "python",
   "pygments_lexer": "ipython3",
   "version": "3.13.9"
  }
 },
 "nbformat": 4,
 "nbformat_minor": 5
}
